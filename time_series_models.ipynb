{
 "cells": [
  {
   "cell_type": "code",
   "execution_count": null,
   "metadata": {},
   "outputs": [],
   "source": [
    "# %load_ext autoreload\n",
    "%autoreload 2\n",
    "import pandas as pd\n",
    "import numpy as np\n",
    "from datetime import datetime\n",
    "import matplotlib.pyplot as plt\n",
    "import statsmodels.api as sm\n",
    "from statsmodels.tsa.arima_model import ARIMA, ARIMAResults\n",
    "from sklearn.linear_model import LinearRegression\n",
    "from sklearn.preprocessing import PolynomialFeatures\n",
    "import matplotlib.pyplot as plt\n",
    "\n",
    "from sales_data import SalesData\n",
    "from reg import LinReg, PolyReg, MultiReg\n",
    "plt.style.use('ggplot')"
   ]
  },
  {
   "cell_type": "markdown",
   "metadata": {},
   "source": [
    "# Import Data and Format Columns\n",
    "... then aggregate data to monthly."
   ]
  },
  {
   "cell_type": "code",
   "execution_count": null,
   "metadata": {},
   "outputs": [],
   "source": [
    "sd = SalesData()\n",
    "sd.set()"
   ]
  },
  {
   "cell_type": "markdown",
   "metadata": {},
   "source": [
    "# Sales overall by month"
   ]
  },
  {
   "cell_type": "code",
   "execution_count": null,
   "metadata": {},
   "outputs": [],
   "source": [
    "def plot_trends(df, title_id):\n",
    "    x = df['year_month']\n",
    "    y1 = df['item_cnt_month']\n",
    "    y2 = df['sales_month']\n",
    "\n",
    "    fig, ax1 = plt.subplots(figsize=(16, 8))\n",
    "    ax2 = ax1.twinx()\n",
    "    ax1.plot(x, y1, 'g-', label='Item Count')\n",
    "    ax2.plot(x, y2, 'b-', label='Sales')\n",
    "    \n",
    "    ax1.set_xlabel('Period')\n",
    "    ax1.tick_params(axis='x', rotation=90)\n",
    "    ax1.set_ylabel('Item Count')\n",
    "    ax2.set_ylabel('Sales')\n",
    "    fig.legend()\n",
    "#     ax2.legend(loc='best')\n",
    "    plt.title(f'{title_id}\\nItem Count & Sales')\n",
    "    plt.show()"
   ]
  },
  {
   "cell_type": "code",
   "execution_count": null,
   "metadata": {},
   "outputs": [],
   "source": [
    "sd.monthly_agg()\n",
    "sd.calc_sales()\n",
    "sales = sd.monthly_sales"
   ]
  },
  {
   "cell_type": "code",
   "execution_count": null,
   "metadata": {
    "scrolled": false
   },
   "outputs": [],
   "source": [
    "overall = sales.groupby(['year_month'])[['item_cnt_month', 'sales_month']].sum().reset_index()\n",
    "overall.sort_values(['year_month'], inplace=True)\n",
    "plot_trends(overall, 'Overall')"
   ]
  },
  {
   "cell_type": "markdown",
   "metadata": {},
   "source": [
    "## Sales by City"
   ]
  },
  {
   "cell_type": "code",
   "execution_count": null,
   "metadata": {},
   "outputs": [],
   "source": [
    "sd.add_shop_cat_info()"
   ]
  },
  {
   "cell_type": "code",
   "execution_count": null,
   "metadata": {},
   "outputs": [],
   "source": [
    "sales = sd.monthly_sales"
   ]
  },
  {
   "cell_type": "code",
   "execution_count": null,
   "metadata": {
    "scrolled": true
   },
   "outputs": [],
   "source": [
    "gb_cols = ['loc_name', 'year_month']\n",
    "city_sales = sales.groupby(gb_cols)[['item_cnt_month', 'sales_month']].sum().reset_index()\n",
    "\n",
    "for n in sorted(city_sales['loc_name'].unique()):\n",
    "    print(f'********\\n{n}\\n********\\n')\n",
    "    subdf = city_sales.loc[city_sales['loc_name'] == n]\n",
    "    print(subdf.shape)\n",
    "    plot_trends(subdf, n)"
   ]
  },
  {
   "cell_type": "markdown",
   "metadata": {},
   "source": [
    "## Sales by the location types"
   ]
  },
  {
   "cell_type": "code",
   "execution_count": null,
   "metadata": {
    "scrolled": true
   },
   "outputs": [],
   "source": [
    "loc_types = ['тц', 'трц', 'мега', 'тк', 'трк', 'молл', 'центральный']\n",
    "\n",
    "for t in loc_types:\n",
    "    print(f'********\\n{t}\\n********\\n')\n",
    "    subdf = sales.loc[sales[t] == 1]\n",
    "    subdf = subdf.groupby(['year_month'])[['item_cnt_month', 'sales_month']].sum().reset_index()\n",
    "    plot_trends(subdf, t)"
   ]
  },
  {
   "cell_type": "markdown",
   "metadata": {},
   "source": [
    "# Focus on a Single Item, Shop"
   ]
  },
  {
   "cell_type": "code",
   "execution_count": null,
   "metadata": {},
   "outputs": [],
   "source": [
    "sd.add_item_info()\n",
    "\n",
    "sales = sd.monthly_sales"
   ]
  },
  {
   "cell_type": "code",
   "execution_count": null,
   "metadata": {},
   "outputs": [],
   "source": [
    "# top_majorcat = 'Игры'\n",
    "top_loc = 'МОСКВА'\n",
    "top_loc_type = 'тц'\n",
    "top_shop_id = '31'\n",
    "top_cat = 'Игры - XBOX 360'\n",
    "top_item_id = '4870'\n",
    "\n",
    "# majorcat_mask = sales['major_category'] == top_majorcat\n",
    "loc_mask = sales['loc_name'] == top_loc\n",
    "shop_mask = sales['shop_id'] == top_shop_id\n",
    "cat_mask = sales['item_category_name'] == top_cat\n",
    "item_mask = sales['item_id'] == top_item_id\n",
    "\n",
    "top_item = sales.loc[\n",
    "#                        majorcat_mask & \n",
    "                       loc_mask & \n",
    "                       shop_mask & \n",
    "                       cat_mask &\n",
    "                       item_mask &\n",
    "                       (sales[top_loc_type] == 1)]\n",
    "top_item.head()"
   ]
  },
  {
   "cell_type": "code",
   "execution_count": null,
   "metadata": {},
   "outputs": [],
   "source": [
    "plot_trends(top_item, 'Top Location & Item')"
   ]
  },
  {
   "cell_type": "code",
   "execution_count": null,
   "metadata": {},
   "outputs": [],
   "source": []
  },
  {
   "cell_type": "markdown",
   "metadata": {},
   "source": [
    "### Item Counts in Top Category"
   ]
  },
  {
   "cell_type": "code",
   "execution_count": null,
   "metadata": {},
   "outputs": [],
   "source": [
    "top_cat = sales.loc[\n",
    "#                        majorcat_mask & \n",
    "                       loc_mask & \n",
    "                       shop_mask & \n",
    "                       cat_mask &\n",
    "#                        item_mask &\n",
    "                       (sales[top_loc_type] == 1)]"
   ]
  },
  {
   "cell_type": "code",
   "execution_count": null,
   "metadata": {},
   "outputs": [],
   "source": [
    "top_cat.groupby('item_id')['item_cnt_month'] \\\n",
    "    .sum().reset_index().sort_values('item_cnt_month', ascending=False).head(20)"
   ]
  },
  {
   "cell_type": "markdown",
   "metadata": {},
   "source": [
    "## Focus on a single shop/item"
   ]
  },
  {
   "cell_type": "code",
   "execution_count": null,
   "metadata": {},
   "outputs": [],
   "source": [
    "top_shop_id = '31'\n",
    "top_item_id = '3328'\n",
    "\n",
    "top_item = sales.loc[(sales['shop_id'] == top_shop_id) & \n",
    "                    (sales['item_id'] == top_item_id)].copy()\n",
    "\n",
    "plot_trends(top_item, 'Top Shop/Item')"
   ]
  },
  {
   "cell_type": "markdown",
   "metadata": {},
   "source": [
    "## Decompose"
   ]
  },
  {
   "cell_type": "code",
   "execution_count": null,
   "metadata": {},
   "outputs": [],
   "source": [
    "def plot_seasonal_decomposition(axs, series, sd):\n",
    "    axs[0].plot(series.index, series)\n",
    "    axs[0].set_title(\"Raw Series\")\n",
    "    axs[1].plot(series.index, sd.trend)\n",
    "    axs[1].set_title(\"Trend Component $T_t$\")\n",
    "    axs[2].plot(series.index, sd.seasonal)\n",
    "    axs[2].set_title(\"Seasonal Component $S_t$\")\n",
    "    axs[3].plot(series.index, sd.resid)\n",
    "    axs[3].set_title(\"Residual Component $R_t$\")\n",
    "    \n",
    "def plot_series_and_difference(axs, series, title):\n",
    "    diff = series.diff()\n",
    "    axs[0].plot(series.index, series)\n",
    "    axs[0].set_title(\"Raw Series: {}\".format(title))\n",
    "    axs[1].plot(series.index, diff)\n",
    "    axs[1].set_title(\"Series of First Differences: {}\".format(title))\n",
    "    \n",
    "def format_list_of_floats(L):\n",
    "    return [\"{0:2.2f}\".format(f) for f in L]"
   ]
  },
  {
   "cell_type": "code",
   "execution_count": null,
   "metadata": {},
   "outputs": [],
   "source": [
    "# format plot_date as datetime\n",
    "top_item['plot_date'] = top_item['month'].astype(str) + '-' + top_item['year'].astype(str)\n",
    "top_item['plot_date'] = top_item['plot_date'].apply(lambda x: datetime.strptime(x, '%m-%Y'))\n",
    "\n",
    "topitem_trend = top_item.loc[:, ['plot_date', 'item_cnt_month']].copy()\n",
    "topitem_trend = topitem_trend.set_index('plot_date')"
   ]
  },
  {
   "cell_type": "code",
   "execution_count": null,
   "metadata": {},
   "outputs": [],
   "source": [
    "topitem_trend = sd.add_missing_periods(topitem_trend)"
   ]
  },
  {
   "cell_type": "code",
   "execution_count": null,
   "metadata": {},
   "outputs": [],
   "source": [
    "python_decomposition = sm.tsa.seasonal_decompose(topitem_trend)\n",
    "fig, axs = plt.subplots(4, figsize=(14, 8))\n",
    "plot_seasonal_decomposition(axs, topitem_trend, python_decomposition)\n",
    "plt.tight_layout()"
   ]
  },
  {
   "cell_type": "markdown",
   "metadata": {},
   "source": [
    "### Test for Stationarity"
   ]
  },
  {
   "cell_type": "code",
   "execution_count": null,
   "metadata": {},
   "outputs": [],
   "source": [
    "test = sm.tsa.stattools.adfuller(topitem_trend)\n",
    "print(f'ADF p-value for topitem_trend: {np.round(test[1], 2)}')"
   ]
  },
  {
   "cell_type": "code",
   "execution_count": null,
   "metadata": {},
   "outputs": [],
   "source": [
    "topitem_diff = topitem_trend.diff()[1:]\n",
    "test = sm.tsa.stattools.adfuller(topitem_diff)\n",
    "print(f'ADF p-value for topitem_trend: {np.round(test[1], 2)}')"
   ]
  },
  {
   "cell_type": "markdown",
   "metadata": {},
   "source": [
    "The differenced series is stationary."
   ]
  },
  {
   "cell_type": "code",
   "execution_count": null,
   "metadata": {},
   "outputs": [],
   "source": [
    "fig, axs = plt.subplots(2, figsize=(14, 4))\n",
    "plot_series_and_difference(axs, topitem_diff, 'Top Item')\n",
    "fig.tight_layout()"
   ]
  },
  {
   "cell_type": "code",
   "execution_count": null,
   "metadata": {},
   "outputs": [],
   "source": [
    "fig, ax = plt.subplots(1, figsize=(14, 3))\n",
    "_ = sm.graphics.tsa.plot_acf(topitem_trend, lags=25, ax=ax)"
   ]
  },
  {
   "cell_type": "code",
   "execution_count": null,
   "metadata": {},
   "outputs": [],
   "source": [
    "fig, ax = plt.subplots(1, figsize=(14, 3))\n",
    "_ = sm.graphics.tsa.plot_pacf(topitem_trend, lags=25, ax=ax)"
   ]
  },
  {
   "cell_type": "code",
   "execution_count": null,
   "metadata": {},
   "outputs": [],
   "source": [
    "topitem_model = ARIMA(topitem_trend, order=(2, 1, 0)).fit()"
   ]
  },
  {
   "cell_type": "code",
   "execution_count": null,
   "metadata": {},
   "outputs": [],
   "source": [
    "print(\"ARIMA(3, 1, 0) coefficients from Top Item model:\\n  Intercept {0:2.2f}\\n  AR {1}\".format(\n",
    "    topitem_model.params[0], \n",
    "        format_list_of_floats(list(topitem_model.params[1:]))\n",
    "    ))"
   ]
  },
  {
   "cell_type": "markdown",
   "metadata": {},
   "source": [
    "## Predict"
   ]
  },
  {
   "cell_type": "code",
   "execution_count": null,
   "metadata": {},
   "outputs": [],
   "source": [
    "fig, ax = plt.subplots(1, figsize=(14, 4))\n",
    "ax.plot(topitem_trend)\n",
    "fig = topitem_model.plot_predict(start='2015-10-01', end='2015-12-01', \n",
    "                                 dynamic=True, ax=ax, plot_insample=False)"
   ]
  },
  {
   "cell_type": "markdown",
   "metadata": {},
   "source": [
    "Not enough points to fit an ARIMA model properly?"
   ]
  },
  {
   "cell_type": "markdown",
   "metadata": {},
   "source": [
    "# Regressions\n",
    "Look at both linear and polynomial regressions..."
   ]
  },
  {
   "cell_type": "code",
   "execution_count": null,
   "metadata": {},
   "outputs": [],
   "source": [
    "l = [\n",
    "    {'ID': 0, 'item_cnt_month': 0.1},\n",
    "    {'ID': 1, 'item_cnt_month': 0.2},\n",
    "    {'ID': 2, 'item_cnt_month': 0.3},\n",
    "    {'ID': 3, 'item_cnt_month': 0.4},\n",
    "]\n",
    "\n",
    "pd.DataFrame.from_records(l)"
   ]
  },
  {
   "cell_type": "code",
   "execution_count": null,
   "metadata": {},
   "outputs": [],
   "source": []
  },
  {
   "cell_type": "code",
   "execution_count": null,
   "metadata": {},
   "outputs": [],
   "source": []
  },
  {
   "cell_type": "code",
   "execution_count": null,
   "metadata": {},
   "outputs": [],
   "source": [
    "topitem_trend.tail()"
   ]
  },
  {
   "cell_type": "code",
   "execution_count": null,
   "metadata": {},
   "outputs": [],
   "source": [
    "# X = np.arange(topitem_trend.shape[0] - 1).reshape(-1, 1)\n",
    "X = topitem_trend.index\n",
    "y = topitem_trend.iloc[:, 0]\n",
    "# plt.plot(X, y)\n",
    "\n",
    "mr = MultiReg(poly_degree=2)\n",
    "mr.fit(X, y)\n",
    "y_pred = mr.predict_next()\n",
    "\n",
    "print(f'Predicted Value for 201511: {y_pred}')\n",
    "\n",
    "mr.plot()"
   ]
  },
  {
   "cell_type": "markdown",
   "metadata": {},
   "source": [
    "This is worth trying out. \n",
    "\n",
    "Need to iterate through each of the test cases to find the shop/item combo and do the regression... is this the best way to do this?"
   ]
  },
  {
   "cell_type": "code",
   "execution_count": null,
   "metadata": {},
   "outputs": [],
   "source": [
    "test_set = pd.read_csv('../data/test.csv')\n",
    "# test_set.insert(loc=1, column='month', value='11')\n",
    "test_set['shop_id'] = test_set['shop_id'].astype(str)\n",
    "test_set['item_id'] = test_set['item_id'].astype(str)\n",
    "print(test_set.shape)"
   ]
  },
  {
   "cell_type": "code",
   "execution_count": null,
   "metadata": {},
   "outputs": [],
   "source": [
    "test_set.head()"
   ]
  },
  {
   "cell_type": "code",
   "execution_count": null,
   "metadata": {},
   "outputs": [],
   "source": [
    "test_set['shop_id'].value_counts()"
   ]
  },
  {
   "cell_type": "code",
   "execution_count": null,
   "metadata": {},
   "outputs": [],
   "source": [
    "for row in range(test_set.shape[0]):\n",
    "    row_id = test_set.iloc[row, 0]\n",
    "    shop_id = test_set.iloc[row, 1]\n",
    "    item_id = test_set.iloc[row, 2]\n",
    "    print(row_id, shop_id, item_id)"
   ]
  },
  {
   "cell_type": "code",
   "execution_count": null,
   "metadata": {},
   "outputs": [],
   "source": []
  },
  {
   "cell_type": "code",
   "execution_count": null,
   "metadata": {},
   "outputs": [],
   "source": []
  },
  {
   "cell_type": "markdown",
   "metadata": {},
   "source": [
    "## Item Categories\n",
    "Most item categories appear to have a more general category description. Break this out into its own column. Then, merge categories to items."
   ]
  },
  {
   "cell_type": "code",
   "execution_count": null,
   "metadata": {},
   "outputs": [],
   "source": [
    "# split on hyphen\n",
    "mask = cats['item_category_name'].str.contains(' -')\n",
    "cats.loc[mask, 'major_category'] =  cats.loc[\n",
    "    mask, 'item_category_name'].apply(lambda x: x.split(' -')[0])\n",
    "\n",
    "# get description before parenthesis\n",
    "mask1 = cats['item_category_name'].str.contains(' \\(')\n",
    "mask2 = cats['major_category'].isna()\n",
    "cats.loc[mask1 & mask2, 'major_category'] =  cats.loc[\n",
    "    mask1 & mask2, 'item_category_name'].apply(lambda x: x.split(' (')[0])\n",
    "\n",
    "# whatever is left\n",
    "mask = cats['major_category'].isna()\n",
    "cats.loc[mask, 'major_category'] =  cats.loc[mask, 'item_category_name']\n",
    "\n",
    "items = pd.merge(items, cats, on=['item_category_id'], how='inner')"
   ]
  },
  {
   "cell_type": "code",
   "execution_count": null,
   "metadata": {},
   "outputs": [],
   "source": [
    "items.head()"
   ]
  },
  {
   "cell_type": "markdown",
   "metadata": {},
   "source": [
    "## Sales by Major Categories"
   ]
  },
  {
   "cell_type": "code",
   "execution_count": null,
   "metadata": {},
   "outputs": [],
   "source": [
    "sales = pd.merge(sales, items, on=['item_id'], how='inner')\n",
    "\n",
    "for cat in sorted(sales['major_category'].unique()):\n",
    "    print(f'**********\\n{cat}\\n**********')\n",
    "    subdf = sales.loc[sales['major_category'] == cat]\n",
    "    subdf = subdf.groupby('year_month')[['item_cnt_day', 'sales_day']].sum().reset_index()\n",
    "    plot_trends(subdf, cat)\n",
    "          "
   ]
  },
  {
   "cell_type": "markdown",
   "metadata": {},
   "source": [
    "## Focus on Tops"
   ]
  },
  {
   "cell_type": "code",
   "execution_count": null,
   "metadata": {},
   "outputs": [],
   "source": [
    "top_majorcat = 'Игры'\n",
    "top_loc = 'МОСКВА'\n",
    "top_loc_type = 'тц'\n",
    "top_shop_id = 31\n",
    "top_cat = 'Игры - XBOX 360'"
   ]
  },
  {
   "cell_type": "code",
   "execution_count": null,
   "metadata": {},
   "outputs": [],
   "source": [
    "majorcat_mask = sales['major_category'] == top_majorcat\n",
    "loc_mask = sales['loc_name'] == top_loc\n",
    "shop_mask = sales['shop_id'] == top_shop_id\n",
    "cat_mask = sales['item_category_name'] == top_cat\n",
    "\n",
    "top_catloc = sales.loc[majorcat_mask & \n",
    "                       loc_mask & \n",
    "                       shop_mask & \n",
    "                       cat_mask &\n",
    "                       (sales[top_loc_type] == 1)]\n",
    "top_catloc.head()"
   ]
  },
  {
   "cell_type": "code",
   "execution_count": null,
   "metadata": {},
   "outputs": [],
   "source": [
    "top_catloc['item_category_name'].unique()"
   ]
  },
  {
   "cell_type": "code",
   "execution_count": null,
   "metadata": {},
   "outputs": [],
   "source": [
    "top_items = top_catloc.groupby(['item_name', 'item_id'])[['item_cnt_day', 'sales_day']].sum().reset_index()\n",
    "top_items.sort_values(['item_cnt_day'], ascending=False, inplace=True)"
   ]
  },
  {
   "cell_type": "code",
   "execution_count": null,
   "metadata": {},
   "outputs": [],
   "source": [
    "top_items.head(20)"
   ]
  },
  {
   "cell_type": "code",
   "execution_count": null,
   "metadata": {},
   "outputs": [],
   "source": [
    "items.head()"
   ]
  },
  {
   "cell_type": "code",
   "execution_count": null,
   "metadata": {},
   "outputs": [],
   "source": [
    "sd.items.loc[sd.items['item_id'] == '3342']"
   ]
  },
  {
   "cell_type": "code",
   "execution_count": null,
   "metadata": {},
   "outputs": [],
   "source": []
  },
  {
   "cell_type": "code",
   "execution_count": null,
   "metadata": {},
   "outputs": [],
   "source": [
    "top_catloc['item_name'].unique()"
   ]
  },
  {
   "cell_type": "code",
   "execution_count": null,
   "metadata": {},
   "outputs": [],
   "source": [
    "top_catloc.columns"
   ]
  },
  {
   "cell_type": "code",
   "execution_count": null,
   "metadata": {
    "scrolled": true
   },
   "outputs": [],
   "source": [
    "for cat_name in sorted(top_catloc['item_category_name'].unique()):\n",
    "    print(f'*********\\n{cat_name}\\n***********')\n",
    "    subdf = top_catloc.loc[top_catloc['item_category_name'] == cat_name]\n",
    "    subdf = subdf.groupby('year_month')[['item_cnt_day', 'sales_day']].sum().reset_index()\n",
    "    plot_trends(subdf, cat_name)"
   ]
  },
  {
   "cell_type": "code",
   "execution_count": null,
   "metadata": {},
   "outputs": [],
   "source": []
  },
  {
   "cell_type": "code",
   "execution_count": null,
   "metadata": {},
   "outputs": [],
   "source": []
  },
  {
   "cell_type": "code",
   "execution_count": null,
   "metadata": {},
   "outputs": [],
   "source": [
    "gb_cols = ['shop_id', 'shop_name', 'clean_name', 'loc_name',\n",
    "           'тц', 'трц', 'мега', 'тк', 'трк', 'молл', 'центральный']\n",
    "shop_agg = top_catloc.groupby(gb_cols)[['item_cnt_day', 'sales_day']].sum().reset_index()\n",
    "shop_agg.sort_values('item_cnt_day', ascending=False, inplace=True)"
   ]
  },
  {
   "cell_type": "code",
   "execution_count": null,
   "metadata": {},
   "outputs": [],
   "source": [
    "shop_agg.head()"
   ]
  },
  {
   "cell_type": "code",
   "execution_count": null,
   "metadata": {},
   "outputs": [],
   "source": []
  },
  {
   "cell_type": "code",
   "execution_count": null,
   "metadata": {},
   "outputs": [],
   "source": [
    "sales.head()"
   ]
  },
  {
   "cell_type": "code",
   "execution_count": null,
   "metadata": {},
   "outputs": [],
   "source": [
    "sales.columns"
   ]
  },
  {
   "cell_type": "code",
   "execution_count": null,
   "metadata": {},
   "outputs": [],
   "source": [
    "items['major_category'].value_counts()"
   ]
  },
  {
   "cell_type": "code",
   "execution_count": null,
   "metadata": {},
   "outputs": [],
   "source": [
    "items.head()"
   ]
  },
  {
   "cell_type": "code",
   "execution_count": null,
   "metadata": {},
   "outputs": [],
   "source": []
  },
  {
   "cell_type": "code",
   "execution_count": null,
   "metadata": {},
   "outputs": [],
   "source": [
    "cats.loc[cats['major_category'] == 'Книги']"
   ]
  },
  {
   "cell_type": "code",
   "execution_count": null,
   "metadata": {},
   "outputs": [],
   "source": []
  },
  {
   "cell_type": "code",
   "execution_count": null,
   "metadata": {},
   "outputs": [],
   "source": []
  },
  {
   "cell_type": "code",
   "execution_count": null,
   "metadata": {},
   "outputs": [],
   "source": []
  },
  {
   "cell_type": "code",
   "execution_count": null,
   "metadata": {},
   "outputs": [],
   "source": []
  },
  {
   "cell_type": "code",
   "execution_count": null,
   "metadata": {},
   "outputs": [],
   "source": [
    "items['item_category_id'].value_counts()"
   ]
  },
  {
   "cell_type": "code",
   "execution_count": null,
   "metadata": {},
   "outputs": [],
   "source": [
    "cats"
   ]
  },
  {
   "cell_type": "code",
   "execution_count": null,
   "metadata": {},
   "outputs": [],
   "source": [
    "items.loc[items['item_category_id'] == 40]"
   ]
  },
  {
   "cell_type": "code",
   "execution_count": null,
   "metadata": {},
   "outputs": [],
   "source": [
    "items.head(20)"
   ]
  },
  {
   "cell_type": "code",
   "execution_count": null,
   "metadata": {},
   "outputs": [],
   "source": [
    "cats.loc[40:, :]"
   ]
  }
 ],
 "metadata": {
  "kernelspec": {
   "display_name": "Python 3",
   "language": "python",
   "name": "python3"
  },
  "language_info": {
   "codemirror_mode": {
    "name": "ipython",
    "version": 3
   },
   "file_extension": ".py",
   "mimetype": "text/x-python",
   "name": "python",
   "nbconvert_exporter": "python",
   "pygments_lexer": "ipython3",
   "version": "3.7.2"
  }
 },
 "nbformat": 4,
 "nbformat_minor": 4
}
