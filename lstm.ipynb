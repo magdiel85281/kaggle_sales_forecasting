{
 "cells": [
  {
   "cell_type": "code",
   "execution_count": 1,
   "metadata": {},
   "outputs": [
    {
     "name": "stderr",
     "output_type": "stream",
     "text": [
      "Using TensorFlow backend.\n"
     ]
    }
   ],
   "source": [
    "%load_ext autoreload\n",
    "%autoreload 2\n",
    "import pandas as pd\n",
    "import numpy as np\n",
    "import src.gb_lag as lag\n",
    "\n",
    "from sklearn.model_selection import train_test_split\n",
    "from sklearn.preprocessing import MinMaxScaler\n",
    "from sklearn.metrics import mean_squared_error\n",
    "\n",
    "import keras\n",
    "from keras.layers import Dense\n",
    "from keras.models import Sequential\n",
    "from keras.layers import LSTM"
   ]
  },
  {
   "cell_type": "code",
   "execution_count": 2,
   "metadata": {},
   "outputs": [
    {
     "name": "stdout",
     "output_type": "stream",
     "text": [
      "Formatting sales data...\n",
      "Aggregating for monthly sales...\n"
     ]
    }
   ],
   "source": [
    "data = lag.feature_matrix(daily_threshold=500)"
   ]
  },
  {
   "cell_type": "code",
   "execution_count": 3,
   "metadata": {},
   "outputs": [],
   "source": [
    "train_df, test_df = lag.stack_lag_dfs(data)"
   ]
  },
  {
   "cell_type": "code",
   "execution_count": 4,
   "metadata": {},
   "outputs": [
    {
     "data": {
      "text/html": [
       "<div>\n",
       "<style scoped>\n",
       "    .dataframe tbody tr th:only-of-type {\n",
       "        vertical-align: middle;\n",
       "    }\n",
       "\n",
       "    .dataframe tbody tr th {\n",
       "        vertical-align: top;\n",
       "    }\n",
       "\n",
       "    .dataframe thead th {\n",
       "        text-align: right;\n",
       "    }\n",
       "</style>\n",
       "<table border=\"1\" class=\"dataframe\">\n",
       "  <thead>\n",
       "    <tr style=\"text-align: right;\">\n",
       "      <th>year_month</th>\n",
       "      <th>P01</th>\n",
       "      <th>P02</th>\n",
       "      <th>P03</th>\n",
       "      <th>P04</th>\n",
       "      <th>P05</th>\n",
       "      <th>P06</th>\n",
       "      <th>P07</th>\n",
       "      <th>P08</th>\n",
       "      <th>P09</th>\n",
       "      <th>P10</th>\n",
       "    </tr>\n",
       "    <tr>\n",
       "      <th>shop_item</th>\n",
       "      <th></th>\n",
       "      <th></th>\n",
       "      <th></th>\n",
       "      <th></th>\n",
       "      <th></th>\n",
       "      <th></th>\n",
       "      <th></th>\n",
       "      <th></th>\n",
       "      <th></th>\n",
       "      <th></th>\n",
       "    </tr>\n",
       "  </thead>\n",
       "  <tbody>\n",
       "    <tr>\n",
       "      <th>0_1000</th>\n",
       "      <td>0.0</td>\n",
       "      <td>0.0</td>\n",
       "      <td>0.0</td>\n",
       "      <td>0.0</td>\n",
       "      <td>0.0</td>\n",
       "      <td>0.0</td>\n",
       "      <td>0.0</td>\n",
       "      <td>0.0</td>\n",
       "      <td>0.0</td>\n",
       "      <td>0.0</td>\n",
       "    </tr>\n",
       "    <tr>\n",
       "      <th>0_10004</th>\n",
       "      <td>0.0</td>\n",
       "      <td>0.0</td>\n",
       "      <td>0.0</td>\n",
       "      <td>0.0</td>\n",
       "      <td>0.0</td>\n",
       "      <td>0.0</td>\n",
       "      <td>0.0</td>\n",
       "      <td>0.0</td>\n",
       "      <td>0.0</td>\n",
       "      <td>0.0</td>\n",
       "    </tr>\n",
       "    <tr>\n",
       "      <th>0_1001</th>\n",
       "      <td>0.0</td>\n",
       "      <td>0.0</td>\n",
       "      <td>0.0</td>\n",
       "      <td>0.0</td>\n",
       "      <td>0.0</td>\n",
       "      <td>0.0</td>\n",
       "      <td>0.0</td>\n",
       "      <td>0.0</td>\n",
       "      <td>0.0</td>\n",
       "      <td>0.0</td>\n",
       "    </tr>\n",
       "    <tr>\n",
       "      <th>0_10012</th>\n",
       "      <td>0.0</td>\n",
       "      <td>0.0</td>\n",
       "      <td>0.0</td>\n",
       "      <td>0.0</td>\n",
       "      <td>0.0</td>\n",
       "      <td>0.0</td>\n",
       "      <td>0.0</td>\n",
       "      <td>0.0</td>\n",
       "      <td>0.0</td>\n",
       "      <td>0.0</td>\n",
       "    </tr>\n",
       "    <tr>\n",
       "      <th>0_1002</th>\n",
       "      <td>0.0</td>\n",
       "      <td>0.0</td>\n",
       "      <td>0.0</td>\n",
       "      <td>0.0</td>\n",
       "      <td>0.0</td>\n",
       "      <td>0.0</td>\n",
       "      <td>0.0</td>\n",
       "      <td>0.0</td>\n",
       "      <td>0.0</td>\n",
       "      <td>0.0</td>\n",
       "    </tr>\n",
       "  </tbody>\n",
       "</table>\n",
       "</div>"
      ],
      "text/plain": [
       "year_month  P01  P02  P03  P04  P05  P06  P07  P08  P09  P10\n",
       "shop_item                                                   \n",
       "0_1000      0.0  0.0  0.0  0.0  0.0  0.0  0.0  0.0  0.0  0.0\n",
       "0_10004     0.0  0.0  0.0  0.0  0.0  0.0  0.0  0.0  0.0  0.0\n",
       "0_1001      0.0  0.0  0.0  0.0  0.0  0.0  0.0  0.0  0.0  0.0\n",
       "0_10012     0.0  0.0  0.0  0.0  0.0  0.0  0.0  0.0  0.0  0.0\n",
       "0_1002      0.0  0.0  0.0  0.0  0.0  0.0  0.0  0.0  0.0  0.0"
      ]
     },
     "execution_count": 4,
     "metadata": {},
     "output_type": "execute_result"
    }
   ],
   "source": [
    "test_df.head()"
   ]
  },
  {
   "cell_type": "code",
   "execution_count": 5,
   "metadata": {},
   "outputs": [],
   "source": [
    "X = train_df.iloc[:, :-1].copy()\n",
    "y = train_df.iloc[:, -1:].copy()\n",
    "X_train, X_test, y_train, y_test = train_test_split(X, y, test_size=.20, random_state=123)"
   ]
  },
  {
   "cell_type": "code",
   "execution_count": 6,
   "metadata": {},
   "outputs": [],
   "source": [
    "# scale the data\n",
    "sc_X = MinMaxScaler()\n",
    "X_train = sc_X.fit_transform(X_train)\n",
    "X_test = sc_X.transform(X_test)\n",
    "sc_y = MinMaxScaler()\n",
    "y_train = sc_y.fit_transform(y_train)"
   ]
  },
  {
   "cell_type": "code",
   "execution_count": 7,
   "metadata": {},
   "outputs": [],
   "source": [
    "X_train = np.reshape(X_train, (X_train.shape[0], 1, X_train.shape[1]))\n",
    "X_test = np.reshape(X_test, (X_test.shape[0], 1, X_test.shape[1]))"
   ]
  },
  {
   "cell_type": "code",
   "execution_count": 22,
   "metadata": {},
   "outputs": [],
   "source": [
    "# build LSTM\n",
    "model = Sequential()\n",
    "model.add(LSTM(units=1, \n",
    "               batch_input_shape=(1, X_train.shape[1], X_train.shape[2]),\n",
    "#                return_sequences=True,\n",
    "#                return_state=True,\n",
    "               dropout=0.1,\n",
    "               stateful=True))\n",
    "model.add(Dense(1))\n",
    "model.add(Dense(1))\n",
    "model.add(Dense(1))\n",
    "model.compile(loss='mean_squared_error', optimizer='adam')"
   ]
  },
  {
   "cell_type": "code",
   "execution_count": 23,
   "metadata": {},
   "outputs": [
    {
     "name": "stdout",
     "output_type": "stream",
     "text": [
      "Epoch 1/30\n",
      "678596/678596 [==============================] - 674s 994us/step - loss: 1.3681e-05\n",
      "Epoch 2/30\n",
      "678596/678596 [==============================] - 674s 993us/step - loss: 1.3618e-05s - l - ETA: 1s - loss: 1\n",
      "Epoch 3/30\n",
      "678596/678596 [==============================] - 674s 993us/step - loss: 1.3617e-05\n",
      "Epoch 4/30\n",
      "678596/678596 [==============================] - 674s 993us/step - loss: 1.3619e-05\n",
      "Epoch 5/30\n",
      "678596/678596 [==============================] - 674s 994us/step - loss: 1.3618e-05\n",
      "Epoch 6/30\n",
      "678596/678596 [==============================] - 675s 995us/step - loss: 1.3617e-05\n",
      "Epoch 7/30\n",
      "678596/678596 [==============================] - 675s 994us/step - loss: 1.3618e-05\n",
      "Epoch 8/30\n",
      "678596/678596 [==============================] - 762s 1ms/step - loss: 1.3614e-05\n",
      "Epoch 9/30\n",
      "678596/678596 [==============================] - 18841s 28ms/step - loss: 1.3617e-05\n",
      "Epoch 10/30\n",
      "678596/678596 [==============================] - 672s 990us/step - loss: 1.3620e-05\n",
      "Epoch 11/30\n",
      "678596/678596 [==============================] - 672s 990us/step - loss: 1.3624e-05\n",
      "Epoch 12/30\n",
      "678596/678596 [==============================] - 671s 989us/step - loss: 1.3613e-05\n",
      "Epoch 13/30\n",
      "678596/678596 [==============================] - 671s 989us/step - loss: 1.3618e-05s - loss: 1.3676e-0 - ETA: 5s - loss:  - ETA: 3s - loss - ETA: 0s - loss: 1.36\n",
      "Epoch 14/30\n",
      "678596/678596 [==============================] - 671s 989us/step - loss: 1.3621e-05s - loss: 1.362\n",
      "Epoch 15/30\n",
      "678596/678596 [==============================] - 671s 988us/step - loss: 1.3617e-05\n",
      "Epoch 16/30\n",
      "678596/678596 [==============================] - 671s 988us/step - loss: 1.3616e-05\n",
      "Epoch 17/30\n",
      "678596/678596 [==============================] - 671s 989us/step - loss: 1.3621e-05\n",
      "Epoch 18/30\n",
      "678596/678596 [==============================] - 671s 988us/step - loss: 1.3624e-05\n",
      "Epoch 19/30\n",
      "678596/678596 [==============================] - 670s 988us/step - loss: 1.3616e-05s - los - \n",
      "Epoch 20/30\n",
      "678596/678596 [==============================] - 670s 988us/step - loss: 1.3190e-05\n",
      "Epoch 21/30\n",
      "678596/678596 [==============================] - 671s 989us/step - loss: 1.0492e-05\n",
      "Epoch 22/30\n",
      "678596/678596 [==============================] - 672s 990us/step - loss: 1.1141e-05\n",
      "Epoch 23/30\n",
      "678596/678596 [==============================] - 670s 988us/step - loss: 1.1107e-05s - loss: \n",
      "Epoch 24/30\n",
      "678596/678596 [==============================] - 670s 988us/step - loss: 1.0814e-05 - ETA: 0s - loss: 1\n",
      "Epoch 25/30\n",
      "678596/678596 [==============================] - 671s 988us/step - loss: 1.0726e-05\n",
      "Epoch 26/30\n",
      "678596/678596 [==============================] - 670s 987us/step - loss: 1.0463e-05s - l\n",
      "Epoch 27/30\n",
      "678596/678596 [==============================] - 671s 988us/step - loss: 9.8765e-06\n",
      "Epoch 28/30\n",
      "678596/678596 [==============================] - 671s 988us/step - loss: 9.9373e-06\n",
      "Epoch 29/30\n",
      "678596/678596 [==============================] - 671s 989us/step - loss: 1.0283e-05\n",
      "Epoch 30/30\n",
      "678596/678596 [==============================] - 670s 988us/step - loss: 1.0014e-05\n"
     ]
    },
    {
     "data": {
      "text/plain": [
       "<keras.callbacks.callbacks.History at 0x17cc04080>"
      ]
     },
     "execution_count": 23,
     "metadata": {},
     "output_type": "execute_result"
    }
   ],
   "source": [
    "model.fit(X_train, y_train, \n",
    "          epochs=30, \n",
    "          batch_size=1, \n",
    "          verbose=1, \n",
    "          shuffle=False)"
   ]
  },
  {
   "cell_type": "code",
   "execution_count": 24,
   "metadata": {},
   "outputs": [],
   "source": [
    "y_pred = model.predict(X_test, batch_size=1)"
   ]
  },
  {
   "cell_type": "code",
   "execution_count": 25,
   "metadata": {},
   "outputs": [
    {
     "name": "stdout",
     "output_type": "stream",
     "text": [
      "RMSE: 3.5599907876187924\n"
     ]
    }
   ],
   "source": [
    "y_pred_unscaled = sc_y.inverse_transform(y_pred)\n",
    "print(f'RMSE: {np.sqrt(mean_squared_error(y_test, y_pred_unscaled))}')"
   ]
  },
  {
   "cell_type": "markdown",
   "metadata": {},
   "source": [
    "# Train on Entire Set"
   ]
  },
  {
   "cell_type": "code",
   "execution_count": 26,
   "metadata": {},
   "outputs": [],
   "source": [
    "# scale\n",
    "sc_X = MinMaxScaler()\n",
    "X = sc_X.fit_transform(X)\n",
    "# X_test = sc_X.transform(X_test)\n",
    "sc_y = MinMaxScaler()\n",
    "y = sc_y.fit_transform(y)\n",
    "\n",
    "X_r = np.reshape(X, (X.shape[0], 1, X.shape[1]))"
   ]
  },
  {
   "cell_type": "code",
   "execution_count": 27,
   "metadata": {},
   "outputs": [
    {
     "name": "stdout",
     "output_type": "stream",
     "text": [
      "Epoch 1/30\n",
      "848246/848246 [==============================] - 880s 1ms/step - loss: 1.0395e-05\n",
      "Epoch 2/30\n",
      "848246/848246 [==============================] - 854s 1ms/step - loss: 1.0728e-05\n",
      "Epoch 3/30\n",
      "848246/848246 [==============================] - 856s 1ms/step - loss: 1.0144e-05\n",
      "Epoch 4/30\n",
      "848246/848246 [==============================] - 853s 1ms/step - loss: 1.0243e-05\n",
      "Epoch 5/30\n",
      "848246/848246 [==============================] - 856s 1ms/step - loss: 1.0378e-05\n",
      "Epoch 6/30\n",
      "848246/848246 [==============================] - 2536s 3ms/step - loss: 9.7719e-06\n",
      "Epoch 7/30\n",
      "848246/848246 [==============================] - 849s 1ms/step - loss: 1.0231e-05\n",
      "Epoch 8/30\n",
      "848246/848246 [==============================] - 871s 1ms/step - loss: 9.8764e-06\n",
      "Epoch 9/30\n",
      "848246/848246 [==============================] - 851s 1ms/step - loss: 1.0383e-05\n",
      "Epoch 10/30\n",
      "848246/848246 [==============================] - 846s 997us/step - loss: 1.0185e-05\n",
      "Epoch 11/30\n",
      "848246/848246 [==============================] - 846s 997us/step - loss: 1.0086e-05s - loss: - ETA: \n",
      "Epoch 12/30\n",
      "848246/848246 [==============================] - 860s 1ms/step - loss: 9.7715e-06\n",
      "Epoch 13/30\n",
      "848246/848246 [==============================] - 867s 1ms/step - loss: 1.0824e-05\n",
      "Epoch 14/30\n",
      "848246/848246 [==============================] - 867s 1ms/step - loss: 1.0122e-05\n",
      "Epoch 15/30\n",
      "848246/848246 [==============================] - 873s 1ms/step - loss: 1.0299e-05\n",
      "Epoch 16/30\n",
      "848246/848246 [==============================] - 869s 1ms/step - loss: 1.0013e-05\n",
      "Epoch 17/30\n",
      "848246/848246 [==============================] - 864s 1ms/step - loss: 1.0258e-05\n",
      "Epoch 18/30\n",
      "848246/848246 [==============================] - 871s 1ms/step - loss: 1.0232e-05\n",
      "Epoch 19/30\n",
      "848246/848246 [==============================] - 874s 1ms/step - loss: 9.8945e-06\n",
      "Epoch 20/30\n",
      "848246/848246 [==============================] - 862s 1ms/step - loss: 1.0142e-05 1s - loss: 1.0153e- - ETA: 0s\n",
      "Epoch 21/30\n",
      "848246/848246 [==============================] - 846s 997us/step - loss: 9.6056e-06\n",
      "Epoch 22/30\n",
      "848246/848246 [==============================] - 846s 997us/step - loss: 9.8256e-06\n",
      "Epoch 23/30\n",
      "848246/848246 [==============================] - 846s 997us/step - loss: 1.0065e-05\n",
      "Epoch 24/30\n",
      "848246/848246 [==============================] - 846s 997us/step - loss: 9.9981e-06\n",
      "Epoch 25/30\n",
      "848246/848246 [==============================] - 845s 996us/step - loss: 9.8245e-06\n",
      "Epoch 26/30\n",
      "848246/848246 [==============================] - 846s 997us/step - loss: 9.4862e-06\n",
      "Epoch 27/30\n",
      "848246/848246 [==============================] - 845s 996us/step - loss: 1.0076e-05\n",
      "Epoch 28/30\n",
      "848246/848246 [==============================] - 845s 997us/step - loss: 9.8558e-06s - loss: 9.85\n",
      "Epoch 29/30\n",
      "848246/848246 [==============================] - 847s 998us/step - loss: 9.9698e-06\n",
      "Epoch 30/30\n",
      "848246/848246 [==============================] - 845s 997us/step - loss: 1.0049e-05\n"
     ]
    },
    {
     "data": {
      "text/plain": [
       "<keras.callbacks.callbacks.History at 0x17cba3cf8>"
      ]
     },
     "execution_count": 27,
     "metadata": {},
     "output_type": "execute_result"
    }
   ],
   "source": [
    "model.fit(X_r, y, \n",
    "          epochs=30, \n",
    "          batch_size=1, \n",
    "          verbose=1, \n",
    "          shuffle=False)"
   ]
  },
  {
   "cell_type": "markdown",
   "metadata": {},
   "source": [
    "# Test Set\n",
    "Merge test set to 2015 data. Then get predictions."
   ]
  },
  {
   "cell_type": "code",
   "execution_count": 28,
   "metadata": {},
   "outputs": [],
   "source": [
    "test_set = pd.read_csv('data/test.csv')\n",
    "\n",
    "test_set['shop_item'] = \\\n",
    "    test_set['shop_id'].astype(str) + '_' + test_set['item_id'].astype(str)\n",
    "\n",
    "test_df = test_df.reset_index()"
   ]
  },
  {
   "cell_type": "code",
   "execution_count": 29,
   "metadata": {},
   "outputs": [
    {
     "data": {
      "text/html": [
       "<div>\n",
       "<style scoped>\n",
       "    .dataframe tbody tr th:only-of-type {\n",
       "        vertical-align: middle;\n",
       "    }\n",
       "\n",
       "    .dataframe tbody tr th {\n",
       "        vertical-align: top;\n",
       "    }\n",
       "\n",
       "    .dataframe thead th {\n",
       "        text-align: right;\n",
       "    }\n",
       "</style>\n",
       "<table border=\"1\" class=\"dataframe\">\n",
       "  <thead>\n",
       "    <tr style=\"text-align: right;\">\n",
       "      <th>year_month</th>\n",
       "      <th>shop_item</th>\n",
       "      <th>P01</th>\n",
       "      <th>P02</th>\n",
       "      <th>P03</th>\n",
       "      <th>P04</th>\n",
       "      <th>P05</th>\n",
       "      <th>P06</th>\n",
       "      <th>P07</th>\n",
       "      <th>P08</th>\n",
       "      <th>P09</th>\n",
       "      <th>P10</th>\n",
       "    </tr>\n",
       "  </thead>\n",
       "  <tbody>\n",
       "    <tr>\n",
       "      <th>0</th>\n",
       "      <td>0_1000</td>\n",
       "      <td>0.0</td>\n",
       "      <td>0.0</td>\n",
       "      <td>0.0</td>\n",
       "      <td>0.0</td>\n",
       "      <td>0.0</td>\n",
       "      <td>0.0</td>\n",
       "      <td>0.0</td>\n",
       "      <td>0.0</td>\n",
       "      <td>0.0</td>\n",
       "      <td>0.0</td>\n",
       "    </tr>\n",
       "    <tr>\n",
       "      <th>1</th>\n",
       "      <td>0_10004</td>\n",
       "      <td>0.0</td>\n",
       "      <td>0.0</td>\n",
       "      <td>0.0</td>\n",
       "      <td>0.0</td>\n",
       "      <td>0.0</td>\n",
       "      <td>0.0</td>\n",
       "      <td>0.0</td>\n",
       "      <td>0.0</td>\n",
       "      <td>0.0</td>\n",
       "      <td>0.0</td>\n",
       "    </tr>\n",
       "    <tr>\n",
       "      <th>2</th>\n",
       "      <td>0_1001</td>\n",
       "      <td>0.0</td>\n",
       "      <td>0.0</td>\n",
       "      <td>0.0</td>\n",
       "      <td>0.0</td>\n",
       "      <td>0.0</td>\n",
       "      <td>0.0</td>\n",
       "      <td>0.0</td>\n",
       "      <td>0.0</td>\n",
       "      <td>0.0</td>\n",
       "      <td>0.0</td>\n",
       "    </tr>\n",
       "    <tr>\n",
       "      <th>3</th>\n",
       "      <td>0_10012</td>\n",
       "      <td>0.0</td>\n",
       "      <td>0.0</td>\n",
       "      <td>0.0</td>\n",
       "      <td>0.0</td>\n",
       "      <td>0.0</td>\n",
       "      <td>0.0</td>\n",
       "      <td>0.0</td>\n",
       "      <td>0.0</td>\n",
       "      <td>0.0</td>\n",
       "      <td>0.0</td>\n",
       "    </tr>\n",
       "    <tr>\n",
       "      <th>4</th>\n",
       "      <td>0_1002</td>\n",
       "      <td>0.0</td>\n",
       "      <td>0.0</td>\n",
       "      <td>0.0</td>\n",
       "      <td>0.0</td>\n",
       "      <td>0.0</td>\n",
       "      <td>0.0</td>\n",
       "      <td>0.0</td>\n",
       "      <td>0.0</td>\n",
       "      <td>0.0</td>\n",
       "      <td>0.0</td>\n",
       "    </tr>\n",
       "  </tbody>\n",
       "</table>\n",
       "</div>"
      ],
      "text/plain": [
       "year_month shop_item  P01  P02  P03  P04  P05  P06  P07  P08  P09  P10\n",
       "0             0_1000  0.0  0.0  0.0  0.0  0.0  0.0  0.0  0.0  0.0  0.0\n",
       "1            0_10004  0.0  0.0  0.0  0.0  0.0  0.0  0.0  0.0  0.0  0.0\n",
       "2             0_1001  0.0  0.0  0.0  0.0  0.0  0.0  0.0  0.0  0.0  0.0\n",
       "3            0_10012  0.0  0.0  0.0  0.0  0.0  0.0  0.0  0.0  0.0  0.0\n",
       "4             0_1002  0.0  0.0  0.0  0.0  0.0  0.0  0.0  0.0  0.0  0.0"
      ]
     },
     "execution_count": 29,
     "metadata": {},
     "output_type": "execute_result"
    }
   ],
   "source": [
    "test_df.head()"
   ]
  },
  {
   "cell_type": "code",
   "execution_count": 30,
   "metadata": {},
   "outputs": [],
   "source": [
    "test_input = pd.merge(test_set.loc[:, 'shop_item'], \n",
    "                    test_df, \n",
    "                    on='shop_item', how='left')\n",
    "\n",
    "test_input.fillna(0, inplace=True)"
   ]
  },
  {
   "cell_type": "code",
   "execution_count": 31,
   "metadata": {},
   "outputs": [
    {
     "data": {
      "text/html": [
       "<div>\n",
       "<style scoped>\n",
       "    .dataframe tbody tr th:only-of-type {\n",
       "        vertical-align: middle;\n",
       "    }\n",
       "\n",
       "    .dataframe tbody tr th {\n",
       "        vertical-align: top;\n",
       "    }\n",
       "\n",
       "    .dataframe thead th {\n",
       "        text-align: right;\n",
       "    }\n",
       "</style>\n",
       "<table border=\"1\" class=\"dataframe\">\n",
       "  <thead>\n",
       "    <tr style=\"text-align: right;\">\n",
       "      <th></th>\n",
       "      <th>shop_item</th>\n",
       "      <th>P01</th>\n",
       "      <th>P02</th>\n",
       "      <th>P03</th>\n",
       "      <th>P04</th>\n",
       "      <th>P05</th>\n",
       "      <th>P06</th>\n",
       "      <th>P07</th>\n",
       "      <th>P08</th>\n",
       "      <th>P09</th>\n",
       "      <th>P10</th>\n",
       "    </tr>\n",
       "  </thead>\n",
       "  <tbody>\n",
       "    <tr>\n",
       "      <th>0</th>\n",
       "      <td>5_5037</td>\n",
       "      <td>2.0</td>\n",
       "      <td>0.0</td>\n",
       "      <td>0.0</td>\n",
       "      <td>0.0</td>\n",
       "      <td>1.0</td>\n",
       "      <td>1.0</td>\n",
       "      <td>1.0</td>\n",
       "      <td>3.0</td>\n",
       "      <td>1.0</td>\n",
       "      <td>0.0</td>\n",
       "    </tr>\n",
       "    <tr>\n",
       "      <th>1</th>\n",
       "      <td>5_5320</td>\n",
       "      <td>0.0</td>\n",
       "      <td>0.0</td>\n",
       "      <td>0.0</td>\n",
       "      <td>0.0</td>\n",
       "      <td>0.0</td>\n",
       "      <td>0.0</td>\n",
       "      <td>0.0</td>\n",
       "      <td>0.0</td>\n",
       "      <td>0.0</td>\n",
       "      <td>0.0</td>\n",
       "    </tr>\n",
       "    <tr>\n",
       "      <th>2</th>\n",
       "      <td>5_5233</td>\n",
       "      <td>0.0</td>\n",
       "      <td>0.0</td>\n",
       "      <td>0.0</td>\n",
       "      <td>0.0</td>\n",
       "      <td>3.0</td>\n",
       "      <td>2.0</td>\n",
       "      <td>0.0</td>\n",
       "      <td>1.0</td>\n",
       "      <td>3.0</td>\n",
       "      <td>1.0</td>\n",
       "    </tr>\n",
       "    <tr>\n",
       "      <th>3</th>\n",
       "      <td>5_5232</td>\n",
       "      <td>0.0</td>\n",
       "      <td>0.0</td>\n",
       "      <td>0.0</td>\n",
       "      <td>0.0</td>\n",
       "      <td>0.0</td>\n",
       "      <td>0.0</td>\n",
       "      <td>0.0</td>\n",
       "      <td>1.0</td>\n",
       "      <td>0.0</td>\n",
       "      <td>0.0</td>\n",
       "    </tr>\n",
       "    <tr>\n",
       "      <th>4</th>\n",
       "      <td>5_5268</td>\n",
       "      <td>0.0</td>\n",
       "      <td>0.0</td>\n",
       "      <td>0.0</td>\n",
       "      <td>0.0</td>\n",
       "      <td>0.0</td>\n",
       "      <td>0.0</td>\n",
       "      <td>0.0</td>\n",
       "      <td>0.0</td>\n",
       "      <td>0.0</td>\n",
       "      <td>0.0</td>\n",
       "    </tr>\n",
       "  </tbody>\n",
       "</table>\n",
       "</div>"
      ],
      "text/plain": [
       "  shop_item  P01  P02  P03  P04  P05  P06  P07  P08  P09  P10\n",
       "0    5_5037  2.0  0.0  0.0  0.0  1.0  1.0  1.0  3.0  1.0  0.0\n",
       "1    5_5320  0.0  0.0  0.0  0.0  0.0  0.0  0.0  0.0  0.0  0.0\n",
       "2    5_5233  0.0  0.0  0.0  0.0  3.0  2.0  0.0  1.0  3.0  1.0\n",
       "3    5_5232  0.0  0.0  0.0  0.0  0.0  0.0  0.0  1.0  0.0  0.0\n",
       "4    5_5268  0.0  0.0  0.0  0.0  0.0  0.0  0.0  0.0  0.0  0.0"
      ]
     },
     "execution_count": 31,
     "metadata": {},
     "output_type": "execute_result"
    }
   ],
   "source": [
    "test_input.head()"
   ]
  },
  {
   "cell_type": "code",
   "execution_count": 32,
   "metadata": {},
   "outputs": [],
   "source": [
    "X_test = test_input.iloc[:, 1:]\n",
    "X_test = sc_X.transform(X_test)\n",
    "X_test = np.reshape(X_test, (X_test.shape[0], 1, X_test.shape[1]))"
   ]
  },
  {
   "cell_type": "code",
   "execution_count": 33,
   "metadata": {},
   "outputs": [],
   "source": [
    "y_pred = model.predict(X_test, batch_size=1)\n",
    "y_pred = sc_y.inverse_transform(y_pred)"
   ]
  },
  {
   "cell_type": "code",
   "execution_count": 34,
   "metadata": {},
   "outputs": [
    {
     "data": {
      "text/html": [
       "<div>\n",
       "<style scoped>\n",
       "    .dataframe tbody tr th:only-of-type {\n",
       "        vertical-align: middle;\n",
       "    }\n",
       "\n",
       "    .dataframe tbody tr th {\n",
       "        vertical-align: top;\n",
       "    }\n",
       "\n",
       "    .dataframe thead th {\n",
       "        text-align: right;\n",
       "    }\n",
       "</style>\n",
       "<table border=\"1\" class=\"dataframe\">\n",
       "  <thead>\n",
       "    <tr style=\"text-align: right;\">\n",
       "      <th></th>\n",
       "      <th>ID</th>\n",
       "      <th>shop_id</th>\n",
       "      <th>item_id</th>\n",
       "      <th>shop_item</th>\n",
       "      <th>item_cnt_month</th>\n",
       "    </tr>\n",
       "  </thead>\n",
       "  <tbody>\n",
       "    <tr>\n",
       "      <th>0</th>\n",
       "      <td>0</td>\n",
       "      <td>5</td>\n",
       "      <td>5037</td>\n",
       "      <td>5_5037</td>\n",
       "      <td>-0.020541</td>\n",
       "    </tr>\n",
       "    <tr>\n",
       "      <th>1</th>\n",
       "      <td>1</td>\n",
       "      <td>5</td>\n",
       "      <td>5320</td>\n",
       "      <td>5_5320</td>\n",
       "      <td>-0.019969</td>\n",
       "    </tr>\n",
       "    <tr>\n",
       "      <th>2</th>\n",
       "      <td>2</td>\n",
       "      <td>5</td>\n",
       "      <td>5233</td>\n",
       "      <td>5_5233</td>\n",
       "      <td>-0.021411</td>\n",
       "    </tr>\n",
       "    <tr>\n",
       "      <th>3</th>\n",
       "      <td>3</td>\n",
       "      <td>5</td>\n",
       "      <td>5232</td>\n",
       "      <td>5_5232</td>\n",
       "      <td>-0.019818</td>\n",
       "    </tr>\n",
       "    <tr>\n",
       "      <th>4</th>\n",
       "      <td>4</td>\n",
       "      <td>5</td>\n",
       "      <td>5268</td>\n",
       "      <td>5_5268</td>\n",
       "      <td>-0.019748</td>\n",
       "    </tr>\n",
       "  </tbody>\n",
       "</table>\n",
       "</div>"
      ],
      "text/plain": [
       "   ID  shop_id  item_id shop_item  item_cnt_month\n",
       "0   0        5     5037    5_5037       -0.020541\n",
       "1   1        5     5320    5_5320       -0.019969\n",
       "2   2        5     5233    5_5233       -0.021411\n",
       "3   3        5     5232    5_5232       -0.019818\n",
       "4   4        5     5268    5_5268       -0.019748"
      ]
     },
     "execution_count": 34,
     "metadata": {},
     "output_type": "execute_result"
    }
   ],
   "source": [
    "test_set['item_cnt_month'] = y_pred\n",
    "test_set.head()"
   ]
  },
  {
   "cell_type": "code",
   "execution_count": 35,
   "metadata": {},
   "outputs": [],
   "source": [
    "output = test_set.loc[:, ['ID', 'item_cnt_month']].copy()\n",
    "output.set_index(keys='ID', inplace=True)\n",
    "output = output.clip(0, 20)\n",
    "\n",
    "output.to_csv('output/lstm_all_data_v2.csv', index=True)"
   ]
  },
  {
   "cell_type": "code",
   "execution_count": null,
   "metadata": {},
   "outputs": [],
   "source": []
  }
 ],
 "metadata": {
  "kernelspec": {
   "display_name": "Python 3",
   "language": "python",
   "name": "python3"
  },
  "language_info": {
   "codemirror_mode": {
    "name": "ipython",
    "version": 3
   },
   "file_extension": ".py",
   "mimetype": "text/x-python",
   "name": "python",
   "nbconvert_exporter": "python",
   "pygments_lexer": "ipython3",
   "version": "3.7.2"
  }
 },
 "nbformat": 4,
 "nbformat_minor": 4
}
