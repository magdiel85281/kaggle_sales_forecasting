{
 "cells": [
  {
   "cell_type": "markdown",
   "metadata": {},
   "source": [
    "# LSTM Model to Predict Sales\n",
    "In this notebook, we'll be using a LSTM model to attempt to predict sales. "
   ]
  },
  {
   "cell_type": "code",
   "execution_count": null,
   "metadata": {},
   "outputs": [],
   "source": [
    "%load_ext autoreload\n",
    "%autoreload 2\n",
    "import pandas as pd\n",
    "import numpy as np\n",
    "from sales_data import SalesData\n",
    "from lstm import ModelInput, LSTMModel\n",
    "import matplotlib.pyplot as plt"
   ]
  },
  {
   "cell_type": "markdown",
   "metadata": {},
   "source": [
    "## Fetch Sales, Shop, and Item data\n",
    "The class SalesData fetches all data regarding shops, items, and sales. It also imports the ```nlp``` module to break out what is assumed to be the locations and types of the shops using traditional NLP techniques. Ultimately, we end up with categorical info on both the shops and the items for further exploration of the data. Additionally, sales data is available at both daily and monthly granularities."
   ]
  },
  {
   "cell_type": "code",
   "execution_count": null,
   "metadata": {},
   "outputs": [],
   "source": [
    "sd = SalesData()\n",
    "\n",
    "sd.set_sales_data()\n",
    "sd.merge_shop_data_to_sales()\n",
    "sd.merge_item_data_to_sales()"
   ]
  },
  {
   "cell_type": "code",
   "execution_count": null,
   "metadata": {},
   "outputs": [],
   "source": [
    "sd.monthly_sales.head()"
   ]
  },
  {
   "cell_type": "markdown",
   "metadata": {},
   "source": [
    "## Build Input for LSTM Model\n",
    "Class ModelInput ingests ```sd.monthly_sales``` and breaks up the data according to shop groups determined by their total sales with the intent of modeling each group separately."
   ]
  },
  {
   "cell_type": "code",
   "execution_count": null,
   "metadata": {},
   "outputs": [],
   "source": [
    "mi = ModelInput(sd.monthly_sales)\n",
    "\n",
    "# mi.set_shop_groups()\n",
    "# mi.date_to_cols(mi.shop_grp_1)\n",
    "mi.date_to_cols(mi.data)\n",
    "mi.stack_periods()\n",
    "mi.train_test_split()\n",
    "mi.scale_min_max()\n",
    "mi.reshape()"
   ]
  },
  {
   "cell_type": "markdown",
   "metadata": {},
   "source": [
    "## Train LSTM Model"
   ]
  },
  {
   "cell_type": "code",
   "execution_count": null,
   "metadata": {},
   "outputs": [],
   "source": [
    "model = LSTMModel(mi.X_train, mi.y_train)"
   ]
  },
  {
   "cell_type": "code",
   "execution_count": null,
   "metadata": {},
   "outputs": [],
   "source": [
    "model.add_layers()\n",
    "model.fit(epochs=50)"
   ]
  },
  {
   "cell_type": "code",
   "execution_count": null,
   "metadata": {},
   "outputs": [],
   "source": [
    "y_pred = model.predict(mi.X_test)"
   ]
  },
  {
   "cell_type": "code",
   "execution_count": null,
   "metadata": {},
   "outputs": [],
   "source": [
    "mi.test_results(y_pred)  # for entire on 30 epochs, 2 lstm layers, 50 units"
   ]
  },
  {
   "cell_type": "markdown",
   "metadata": {},
   "source": [
    "# Test Set\n",
    "Merge test set to 2015 data. Then get predictions."
   ]
  },
  {
   "cell_type": "code",
   "execution_count": null,
   "metadata": {},
   "outputs": [],
   "source": [
    "test_set = pd.read_csv('../data/test.csv')\n",
    "\n",
    "test_set['shop_item'] = \\\n",
    "    test_set['shop_id'].astype(str) + '_' + test_set['item_id'].astype(str)\n",
    "\n",
    "test_df = mi.current_year_df.reset_index()"
   ]
  },
  {
   "cell_type": "code",
   "execution_count": null,
   "metadata": {},
   "outputs": [],
   "source": [
    "test_df.head()"
   ]
  },
  {
   "cell_type": "code",
   "execution_count": null,
   "metadata": {},
   "outputs": [],
   "source": [
    "test_input = pd.merge(test_set.loc[:, 'shop_item'], \n",
    "                    test_df, \n",
    "                    on='shop_item', how='left')\n",
    "\n",
    "test_input.fillna(0, inplace=True)"
   ]
  },
  {
   "cell_type": "code",
   "execution_count": null,
   "metadata": {},
   "outputs": [],
   "source": [
    "test_input.head()"
   ]
  },
  {
   "cell_type": "code",
   "execution_count": null,
   "metadata": {},
   "outputs": [],
   "source": [
    "X_test = test_input.iloc[:, 1:]\n",
    "X_test = mi.X_scaler.transform(X_test)\n",
    "# X_test = np.reshape(X_test, (X_test.shape[0], 1, X_test.shape[1]))\n",
    "X_test = np.reshape(X_test, (X_test.shape[0], X_test.shape[1], 1))"
   ]
  },
  {
   "cell_type": "code",
   "execution_count": null,
   "metadata": {},
   "outputs": [],
   "source": [
    "y_pred = model.predict(X_test)\n",
    "y_pred = mi.y_scaler.inverse_transform(y_pred)"
   ]
  },
  {
   "cell_type": "code",
   "execution_count": null,
   "metadata": {},
   "outputs": [],
   "source": [
    "test_set['item_cnt_month'] = y_pred\n",
    "test_set.head()"
   ]
  },
  {
   "cell_type": "code",
   "execution_count": null,
   "metadata": {},
   "outputs": [],
   "source": [
    "output = test_set.loc[:, ['ID', 'item_cnt_month']].copy()\n",
    "output.set_index(keys='ID', inplace=True)\n",
    "output = output.clip(0, 20)\n",
    "\n",
    "output.to_csv('../output/lstm_output_v2.csv', index=True)"
   ]
  }
 ],
 "metadata": {
  "kernelspec": {
   "display_name": "Python 3",
   "language": "python",
   "name": "python3"
  },
  "language_info": {
   "codemirror_mode": {
    "name": "ipython",
    "version": 3
   },
   "file_extension": ".py",
   "mimetype": "text/x-python",
   "name": "python",
   "nbconvert_exporter": "python",
   "pygments_lexer": "ipython3",
   "version": "3.7.7"
  }
 },
 "nbformat": 4,
 "nbformat_minor": 4
}
