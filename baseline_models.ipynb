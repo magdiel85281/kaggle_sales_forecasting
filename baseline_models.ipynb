{
 "cells": [
  {
   "cell_type": "code",
   "execution_count": 51,
   "metadata": {},
   "outputs": [],
   "source": [
    "%load_ext autoreload\n",
    "%autoreload 2\n",
    "\n",
    "import pandas as pd\n",
    "import numpy as np\n",
    "import os\n",
    "import re\n",
    "from datetime import datetime\n",
    "from sklearn.preprocessing import StandardScaler\n",
    "from sklearn.ensemble import GradientBoostingRegressor, RandomForestRegressor\n",
    "from sklearn.model_selection import GridSearchCV\n",
    "from sklearn.metrics import mean_squared_error\n",
    "from sklearn.feature_extraction.text import CountVectorizer\n",
    "import matplotlib.pyplot as plt\n",
    "\n",
    "from src.sales_data import SalesData\n",
    "import src.nlp as nlp"
   ]
  },
  {
   "cell_type": "code",
   "execution_count": 2,
   "metadata": {},
   "outputs": [
    {
     "name": "stdout",
     "output_type": "stream",
     "text": [
      "sales_train.csv:\t(2935849, 6)\n",
      "shops.csv:\t(60, 2)\n",
      "test.csv:\t(214200, 3)\n",
      "item_categories.csv:\t(84, 2)\n",
      "items.csv:\t(22170, 3)\n",
      "sample_submission.csv:\t(214200, 2)\n"
     ]
    }
   ],
   "source": [
    "for filename in os.listdir('data'):\n",
    "    if '.csv' in filename:\n",
    "        df = pd.read_csv(f'data/{filename}')\n",
    "        print(f'{filename}:\\t{df.shape}')"
   ]
  },
  {
   "cell_type": "markdown",
   "metadata": {},
   "source": [
    "## Import Data and Format Columns\n",
    "Also, add year, month, and year_month columns. Then, aggregate to monthly sales."
   ]
  },
  {
   "cell_type": "code",
   "execution_count": 5,
   "metadata": {},
   "outputs": [],
   "source": [
    "sd = SalesData()\n",
    "sd.set()"
   ]
  },
  {
   "cell_type": "code",
   "execution_count": 14,
   "metadata": {},
   "outputs": [],
   "source": [
    "sd.monthly_agg()\n",
    "sales = sd.monthly_sales"
   ]
  },
  {
   "cell_type": "code",
   "execution_count": 15,
   "metadata": {},
   "outputs": [
    {
     "data": {
      "text/html": [
       "<div>\n",
       "<style scoped>\n",
       "    .dataframe tbody tr th:only-of-type {\n",
       "        vertical-align: middle;\n",
       "    }\n",
       "\n",
       "    .dataframe tbody tr th {\n",
       "        vertical-align: top;\n",
       "    }\n",
       "\n",
       "    .dataframe thead th {\n",
       "        text-align: right;\n",
       "    }\n",
       "</style>\n",
       "<table border=\"1\" class=\"dataframe\">\n",
       "  <thead>\n",
       "    <tr style=\"text-align: right;\">\n",
       "      <th></th>\n",
       "      <th>date_block_num</th>\n",
       "      <th>year</th>\n",
       "      <th>month</th>\n",
       "      <th>year_month</th>\n",
       "      <th>shop_id</th>\n",
       "      <th>item_id</th>\n",
       "      <th>item_price</th>\n",
       "      <th>item_cnt_mth</th>\n",
       "    </tr>\n",
       "  </thead>\n",
       "  <tbody>\n",
       "    <tr>\n",
       "      <th>0</th>\n",
       "      <td>0</td>\n",
       "      <td>2013</td>\n",
       "      <td>01</td>\n",
       "      <td>201301</td>\n",
       "      <td>0</td>\n",
       "      <td>1000</td>\n",
       "      <td>58.0</td>\n",
       "      <td>5.0</td>\n",
       "    </tr>\n",
       "    <tr>\n",
       "      <th>1</th>\n",
       "      <td>0</td>\n",
       "      <td>2013</td>\n",
       "      <td>01</td>\n",
       "      <td>201301</td>\n",
       "      <td>0</td>\n",
       "      <td>1001</td>\n",
       "      <td>58.0</td>\n",
       "      <td>2.0</td>\n",
       "    </tr>\n",
       "    <tr>\n",
       "      <th>2</th>\n",
       "      <td>0</td>\n",
       "      <td>2013</td>\n",
       "      <td>01</td>\n",
       "      <td>201301</td>\n",
       "      <td>0</td>\n",
       "      <td>10012</td>\n",
       "      <td>76.0</td>\n",
       "      <td>1.0</td>\n",
       "    </tr>\n",
       "    <tr>\n",
       "      <th>3</th>\n",
       "      <td>0</td>\n",
       "      <td>2013</td>\n",
       "      <td>01</td>\n",
       "      <td>201301</td>\n",
       "      <td>0</td>\n",
       "      <td>1002</td>\n",
       "      <td>58.0</td>\n",
       "      <td>2.0</td>\n",
       "    </tr>\n",
       "    <tr>\n",
       "      <th>4</th>\n",
       "      <td>0</td>\n",
       "      <td>2013</td>\n",
       "      <td>01</td>\n",
       "      <td>201301</td>\n",
       "      <td>0</td>\n",
       "      <td>1003</td>\n",
       "      <td>58.0</td>\n",
       "      <td>2.0</td>\n",
       "    </tr>\n",
       "  </tbody>\n",
       "</table>\n",
       "</div>"
      ],
      "text/plain": [
       "   date_block_num  year month year_month shop_id item_id  item_price  \\\n",
       "0               0  2013    01     201301       0    1000        58.0   \n",
       "1               0  2013    01     201301       0    1001        58.0   \n",
       "2               0  2013    01     201301       0   10012        76.0   \n",
       "3               0  2013    01     201301       0    1002        58.0   \n",
       "4               0  2013    01     201301       0    1003        58.0   \n",
       "\n",
       "   item_cnt_mth  \n",
       "0           5.0  \n",
       "1           2.0  \n",
       "2           1.0  \n",
       "3           2.0  \n",
       "4           2.0  "
      ]
     },
     "execution_count": 15,
     "metadata": {},
     "output_type": "execute_result"
    }
   ],
   "source": [
    "sales.head()"
   ]
  },
  {
   "cell_type": "code",
   "execution_count": 16,
   "metadata": {},
   "outputs": [
    {
     "name": "stdout",
     "output_type": "stream",
     "text": [
      "<class 'pandas.core.frame.DataFrame'>\n",
      "RangeIndex: 1739022 entries, 0 to 1739021\n",
      "Data columns (total 8 columns):\n",
      " #   Column          Dtype  \n",
      "---  ------          -----  \n",
      " 0   date_block_num  int64  \n",
      " 1   year            int64  \n",
      " 2   month           object \n",
      " 3   year_month      object \n",
      " 4   shop_id         object \n",
      " 5   item_id         object \n",
      " 6   item_price      float64\n",
      " 7   item_cnt_mth    float64\n",
      "dtypes: float64(2), int64(2), object(4)\n",
      "memory usage: 106.1+ MB\n"
     ]
    }
   ],
   "source": [
    "sales.info()"
   ]
  },
  {
   "cell_type": "markdown",
   "metadata": {},
   "source": [
    "# Baseline Models\n",
    "Get a baseline score using Gradient Boosting and Random Forest Regressors. First run used GridSearch to find best parameters... probably overkill for our baseline models."
   ]
  },
  {
   "cell_type": "code",
   "execution_count": 17,
   "metadata": {},
   "outputs": [],
   "source": [
    "def ts_train_test_split(X, y, test_periods=1):\n",
    "    periods = sorted(list(X['year_month'].unique()))\n",
    "    train_periods = periods[:-test_periods]\n",
    "    test_periods = periods[-test_periods:]\n",
    "    \n",
    "    train_mask = X['year_month'].isin(train_periods)\n",
    "    X_train = X.loc[train_mask]\n",
    "    y_train = y.loc[train_mask]\n",
    "    \n",
    "    test_mask = X['year_month'].isin(test_periods)\n",
    "    X_test = X.loc[test_mask]\n",
    "    y_test = y.loc[test_mask]\n",
    "    return X_train, X_test, y_train, y_test"
   ]
  },
  {
   "cell_type": "code",
   "execution_count": 20,
   "metadata": {},
   "outputs": [],
   "source": [
    "feat_cols = ['year_month', 'year', 'month', 'shop_id', 'item_id', 'item_price']\n",
    "X = sales.loc[:, feat_cols].copy()\n",
    "y = sales.loc[:, 'item_cnt_mth'].copy()\n",
    "\n",
    "X_train, X_test, y_train, y_test = ts_train_test_split(X, y, test_periods=1)"
   ]
  },
  {
   "cell_type": "code",
   "execution_count": 21,
   "metadata": {},
   "outputs": [
    {
     "data": {
      "text/html": [
       "<div>\n",
       "<style scoped>\n",
       "    .dataframe tbody tr th:only-of-type {\n",
       "        vertical-align: middle;\n",
       "    }\n",
       "\n",
       "    .dataframe tbody tr th {\n",
       "        vertical-align: top;\n",
       "    }\n",
       "\n",
       "    .dataframe thead th {\n",
       "        text-align: right;\n",
       "    }\n",
       "</style>\n",
       "<table border=\"1\" class=\"dataframe\">\n",
       "  <thead>\n",
       "    <tr style=\"text-align: right;\">\n",
       "      <th></th>\n",
       "      <th>year_month</th>\n",
       "      <th>year</th>\n",
       "      <th>month</th>\n",
       "      <th>shop_id</th>\n",
       "      <th>item_id</th>\n",
       "      <th>item_price</th>\n",
       "    </tr>\n",
       "  </thead>\n",
       "  <tbody>\n",
       "    <tr>\n",
       "      <th>0</th>\n",
       "      <td>201301</td>\n",
       "      <td>2013</td>\n",
       "      <td>01</td>\n",
       "      <td>0</td>\n",
       "      <td>1000</td>\n",
       "      <td>58.0</td>\n",
       "    </tr>\n",
       "    <tr>\n",
       "      <th>1</th>\n",
       "      <td>201301</td>\n",
       "      <td>2013</td>\n",
       "      <td>01</td>\n",
       "      <td>0</td>\n",
       "      <td>1001</td>\n",
       "      <td>58.0</td>\n",
       "    </tr>\n",
       "    <tr>\n",
       "      <th>2</th>\n",
       "      <td>201301</td>\n",
       "      <td>2013</td>\n",
       "      <td>01</td>\n",
       "      <td>0</td>\n",
       "      <td>10012</td>\n",
       "      <td>76.0</td>\n",
       "    </tr>\n",
       "    <tr>\n",
       "      <th>3</th>\n",
       "      <td>201301</td>\n",
       "      <td>2013</td>\n",
       "      <td>01</td>\n",
       "      <td>0</td>\n",
       "      <td>1002</td>\n",
       "      <td>58.0</td>\n",
       "    </tr>\n",
       "    <tr>\n",
       "      <th>4</th>\n",
       "      <td>201301</td>\n",
       "      <td>2013</td>\n",
       "      <td>01</td>\n",
       "      <td>0</td>\n",
       "      <td>1003</td>\n",
       "      <td>58.0</td>\n",
       "    </tr>\n",
       "  </tbody>\n",
       "</table>\n",
       "</div>"
      ],
      "text/plain": [
       "  year_month  year month shop_id item_id  item_price\n",
       "0     201301  2013    01       0    1000        58.0\n",
       "1     201301  2013    01       0    1001        58.0\n",
       "2     201301  2013    01       0   10012        76.0\n",
       "3     201301  2013    01       0    1002        58.0\n",
       "4     201301  2013    01       0    1003        58.0"
      ]
     },
     "execution_count": 21,
     "metadata": {},
     "output_type": "execute_result"
    }
   ],
   "source": [
    "X_train.head()"
   ]
  },
  {
   "cell_type": "code",
   "execution_count": 25,
   "metadata": {},
   "outputs": [
    {
     "name": "stderr",
     "output_type": "stream",
     "text": [
      "/Users/u1b1700/.pyenv/versions/3.7.2/envs/kag/lib/python3.7/site-packages/pandas/core/frame.py:3997: SettingWithCopyWarning: \n",
      "A value is trying to be set on a copy of a slice from a DataFrame\n",
      "\n",
      "See the caveats in the documentation: https://pandas.pydata.org/pandas-docs/stable/user_guide/indexing.html#returning-a-view-versus-a-copy\n",
      "  errors=errors,\n"
     ]
    }
   ],
   "source": [
    "for df in [X_train, X_test]:\n",
    "    df.drop(['year_month', 'year', 'item_price'], axis=1, inplace=True)"
   ]
  },
  {
   "cell_type": "code",
   "execution_count": 33,
   "metadata": {},
   "outputs": [
    {
     "data": {
      "text/html": [
       "<div>\n",
       "<style scoped>\n",
       "    .dataframe tbody tr th:only-of-type {\n",
       "        vertical-align: middle;\n",
       "    }\n",
       "\n",
       "    .dataframe tbody tr th {\n",
       "        vertical-align: top;\n",
       "    }\n",
       "\n",
       "    .dataframe thead th {\n",
       "        text-align: right;\n",
       "    }\n",
       "</style>\n",
       "<table border=\"1\" class=\"dataframe\">\n",
       "  <thead>\n",
       "    <tr style=\"text-align: right;\">\n",
       "      <th></th>\n",
       "      <th>month</th>\n",
       "      <th>shop_id</th>\n",
       "      <th>item_id</th>\n",
       "    </tr>\n",
       "  </thead>\n",
       "  <tbody>\n",
       "    <tr>\n",
       "      <th>0</th>\n",
       "      <td>01</td>\n",
       "      <td>0</td>\n",
       "      <td>1000</td>\n",
       "    </tr>\n",
       "    <tr>\n",
       "      <th>1</th>\n",
       "      <td>01</td>\n",
       "      <td>0</td>\n",
       "      <td>1001</td>\n",
       "    </tr>\n",
       "    <tr>\n",
       "      <th>2</th>\n",
       "      <td>01</td>\n",
       "      <td>0</td>\n",
       "      <td>10012</td>\n",
       "    </tr>\n",
       "    <tr>\n",
       "      <th>3</th>\n",
       "      <td>01</td>\n",
       "      <td>0</td>\n",
       "      <td>1002</td>\n",
       "    </tr>\n",
       "    <tr>\n",
       "      <th>4</th>\n",
       "      <td>01</td>\n",
       "      <td>0</td>\n",
       "      <td>1003</td>\n",
       "    </tr>\n",
       "  </tbody>\n",
       "</table>\n",
       "</div>"
      ],
      "text/plain": [
       "  month shop_id item_id\n",
       "0    01       0    1000\n",
       "1    01       0    1001\n",
       "2    01       0   10012\n",
       "3    01       0    1002\n",
       "4    01       0    1003"
      ]
     },
     "execution_count": 33,
     "metadata": {},
     "output_type": "execute_result"
    }
   ],
   "source": [
    "X_train.head()"
   ]
  },
  {
   "cell_type": "code",
   "execution_count": 34,
   "metadata": {},
   "outputs": [
    {
     "name": "stdout",
     "output_type": "stream",
     "text": [
      "<class 'pandas.core.frame.DataFrame'>\n",
      "Int64Index: 1705824 entries, 0 to 1705823\n",
      "Data columns (total 3 columns):\n",
      " #   Column   Dtype \n",
      "---  ------   ----- \n",
      " 0   month    object\n",
      " 1   shop_id  object\n",
      " 2   item_id  object\n",
      "dtypes: object(3)\n",
      "memory usage: 132.1+ MB\n"
     ]
    }
   ],
   "source": [
    "X_train.info()"
   ]
  },
  {
   "cell_type": "markdown",
   "metadata": {},
   "source": [
    "### Random Forest Regressor"
   ]
  },
  {
   "cell_type": "code",
   "execution_count": null,
   "metadata": {},
   "outputs": [],
   "source": [
    "# rf = RandomForestRegressor(n_jobs=4)\n",
    "# params = {'n_estimators': [100, 500, 1000], 'max_depth': [2, 3, 4]}\n",
    "# gs = GridSearchCV(estimator=rf, param_grid=params, verbose=3)\n",
    "# gs.fit(X_train, y_train.values.ravel())\n"
   ]
  },
  {
   "cell_type": "code",
   "execution_count": null,
   "metadata": {
    "scrolled": true
   },
   "outputs": [],
   "source": [
    "# for k in gs.cv_results_.keys():\n",
    "#     print(f'{k}:\\n{gs.cv_results_[k]}')"
   ]
  },
  {
   "cell_type": "code",
   "execution_count": 29,
   "metadata": {},
   "outputs": [
    {
     "name": "stderr",
     "output_type": "stream",
     "text": [
      "[Parallel(n_jobs=2)]: Using backend ThreadingBackend with 2 concurrent workers.\n",
      "[Parallel(n_jobs=2)]: Done  46 tasks      | elapsed:   10.5s\n",
      "[Parallel(n_jobs=2)]: Done 196 tasks      | elapsed:   44.4s\n",
      "[Parallel(n_jobs=2)]: Done 446 tasks      | elapsed:  1.7min\n"
     ]
    },
    {
     "name": "stdout",
     "output_type": "stream",
     "text": [
      "Random Forest Regressor RMSE: 13.235326902255489\n"
     ]
    },
    {
     "name": "stderr",
     "output_type": "stream",
     "text": [
      "[Parallel(n_jobs=2)]: Done 500 out of 500 | elapsed:  1.9min finished\n",
      "[Parallel(n_jobs=2)]: Using backend ThreadingBackend with 2 concurrent workers.\n",
      "[Parallel(n_jobs=2)]: Done  46 tasks      | elapsed:    0.0s\n",
      "[Parallel(n_jobs=2)]: Done 196 tasks      | elapsed:    0.0s\n",
      "[Parallel(n_jobs=2)]: Done 446 tasks      | elapsed:    0.1s\n",
      "[Parallel(n_jobs=2)]: Done 500 out of 500 | elapsed:    0.1s finished\n"
     ]
    }
   ],
   "source": [
    "rf = RandomForestRegressor(n_estimators=500, \n",
    "                           criterion='mse', \n",
    "                           max_depth=2, \n",
    "                           min_samples_split=2, \n",
    "                           min_samples_leaf=1, \n",
    "                           min_weight_fraction_leaf=0.0, \n",
    "                           max_features='auto', \n",
    "                           max_leaf_nodes=None, \n",
    "                           min_impurity_decrease=0.0, \n",
    "                           min_impurity_split=None, \n",
    "                           bootstrap=True, \n",
    "                           oob_score=False, \n",
    "                           n_jobs=2, \n",
    "                           random_state=123, \n",
    "                           verbose=1, \n",
    "                           warm_start=False, \n",
    "                           ccp_alpha=0.0, \n",
    "                           max_samples=None)\n",
    "\n",
    "rf.fit(X_train, y_train.values.ravel())\n",
    "\n",
    "y_pred = rf.predict(X_test)\n",
    "\n",
    "score = np.sqrt(mean_squared_error(y_test, y_pred))\n",
    "print(f'Random Forest Regressor RMSE: {score}')"
   ]
  },
  {
   "cell_type": "markdown",
   "metadata": {},
   "source": [
    "### Gradient Boosting Regressor"
   ]
  },
  {
   "cell_type": "code",
   "execution_count": null,
   "metadata": {},
   "outputs": [],
   "source": [
    "# gb = GradientBoostingRegressor(criterion='mse', n_iter_no_change=100)\n",
    "# params = {'n_estimators': [100, 200, 400], \n",
    "#           'max_depth': [2, 3, 4], \n",
    "#           'learning_rate': [0.05, 0.1]}\n",
    "# gs = GridSearchCV(estimator=gb, param_grid=params, n_jobs=1, verbose=3)\n",
    "# gs.fit(X_train, y_train.values.ravel())\n"
   ]
  },
  {
   "cell_type": "code",
   "execution_count": null,
   "metadata": {
    "scrolled": true
   },
   "outputs": [],
   "source": [
    "# for k in gs.cv_results_.keys():\n",
    "#     print(f'{k}:\\n{gs.cv_results_[k]}')"
   ]
  },
  {
   "cell_type": "code",
   "execution_count": null,
   "metadata": {},
   "outputs": [],
   "source": [
    "# best_score_idx = np.argmin(gs.cv_results_['rank_test_score'])\n",
    "# gs.cv_results_['params'][best_score_idx]"
   ]
  },
  {
   "cell_type": "code",
   "execution_count": 30,
   "metadata": {},
   "outputs": [
    {
     "name": "stdout",
     "output_type": "stream",
     "text": [
      "      Iter       Train Loss   Remaining Time \n",
      "         1          53.8286            3.53m\n",
      "         2          51.9387            3.45m\n",
      "         3          50.4079            3.49m\n",
      "         4          49.1677            3.52m\n",
      "         5          48.1628            3.54m\n",
      "         6          47.3479            3.51m\n",
      "         7          46.6878            3.48m\n",
      "         8          46.2276            3.46m\n",
      "         9          45.7798            3.43m\n",
      "        10          45.4166            3.40m\n",
      "        20          44.3538            3.23m\n",
      "        30          44.2013            2.97m\n",
      "        40          44.0791            2.76m\n",
      "        50          44.0441            2.56m\n",
      "        60          43.9574            2.38m\n",
      "        70          43.8851            2.20m\n",
      "        80          43.7786            2.03m\n",
      "        90          43.7529            1.85m\n",
      "       100          43.6705            1.68m\n",
      "       200          43.2841            0.00s\n",
      "Gradient Boosting Regressor RMSE: 13.205525666865636\n"
     ]
    }
   ],
   "source": [
    "gb = GradientBoostingRegressor(loss='ls', \n",
    "                               learning_rate=0.1, \n",
    "                               n_estimators=200, \n",
    "                               subsample=1.0, \n",
    "                               criterion='mse', \n",
    "                               min_samples_split=2, \n",
    "                               min_samples_leaf=1, \n",
    "                               min_weight_fraction_leaf=0.0, \n",
    "                               max_depth=2, \n",
    "                               min_impurity_decrease=0.0, \n",
    "                               min_impurity_split=None, \n",
    "                               init=None, \n",
    "                               random_state=None, \n",
    "                               max_features=None, \n",
    "                               alpha=0.9, \n",
    "                               verbose=1, \n",
    "                               max_leaf_nodes=None, \n",
    "                               warm_start=False, \n",
    "                               presort='deprecated', \n",
    "                               validation_fraction=0.1, \n",
    "                               n_iter_no_change=100, \n",
    "                               tol=0.0001, \n",
    "                               ccp_alpha=0.0)\n",
    "\n",
    "gb.fit(X_train, y_train.values.ravel())\n",
    "y_pred = gb.predict(X_test)\n",
    "\n",
    "score = np.sqrt(mean_squared_error(y_test, y_pred))\n",
    "print(f'Gradient Boosting Regressor RMSE: {score}')"
   ]
  },
  {
   "cell_type": "markdown",
   "metadata": {},
   "source": [
    "## Generate Output\n",
    "Import the test set and get results to upload."
   ]
  },
  {
   "cell_type": "code",
   "execution_count": 36,
   "metadata": {},
   "outputs": [],
   "source": [
    "test_set = pd.read_csv('data/test.csv')\n",
    "test_set.insert(loc=1, column='month', value='11')\n"
   ]
  },
  {
   "cell_type": "code",
   "execution_count": 37,
   "metadata": {},
   "outputs": [
    {
     "data": {
      "text/html": [
       "<div>\n",
       "<style scoped>\n",
       "    .dataframe tbody tr th:only-of-type {\n",
       "        vertical-align: middle;\n",
       "    }\n",
       "\n",
       "    .dataframe tbody tr th {\n",
       "        vertical-align: top;\n",
       "    }\n",
       "\n",
       "    .dataframe thead th {\n",
       "        text-align: right;\n",
       "    }\n",
       "</style>\n",
       "<table border=\"1\" class=\"dataframe\">\n",
       "  <thead>\n",
       "    <tr style=\"text-align: right;\">\n",
       "      <th></th>\n",
       "      <th>ID</th>\n",
       "      <th>month</th>\n",
       "      <th>shop_id</th>\n",
       "      <th>item_id</th>\n",
       "    </tr>\n",
       "  </thead>\n",
       "  <tbody>\n",
       "    <tr>\n",
       "      <th>0</th>\n",
       "      <td>0</td>\n",
       "      <td>11</td>\n",
       "      <td>5</td>\n",
       "      <td>5037</td>\n",
       "    </tr>\n",
       "    <tr>\n",
       "      <th>1</th>\n",
       "      <td>1</td>\n",
       "      <td>11</td>\n",
       "      <td>5</td>\n",
       "      <td>5320</td>\n",
       "    </tr>\n",
       "    <tr>\n",
       "      <th>2</th>\n",
       "      <td>2</td>\n",
       "      <td>11</td>\n",
       "      <td>5</td>\n",
       "      <td>5233</td>\n",
       "    </tr>\n",
       "    <tr>\n",
       "      <th>3</th>\n",
       "      <td>3</td>\n",
       "      <td>11</td>\n",
       "      <td>5</td>\n",
       "      <td>5232</td>\n",
       "    </tr>\n",
       "    <tr>\n",
       "      <th>4</th>\n",
       "      <td>4</td>\n",
       "      <td>11</td>\n",
       "      <td>5</td>\n",
       "      <td>5268</td>\n",
       "    </tr>\n",
       "  </tbody>\n",
       "</table>\n",
       "</div>"
      ],
      "text/plain": [
       "   ID month  shop_id  item_id\n",
       "0   0    11        5     5037\n",
       "1   1    11        5     5320\n",
       "2   2    11        5     5233\n",
       "3   3    11        5     5232\n",
       "4   4    11        5     5268"
      ]
     },
     "execution_count": 37,
     "metadata": {},
     "output_type": "execute_result"
    }
   ],
   "source": [
    "test_set.head()"
   ]
  },
  {
   "cell_type": "code",
   "execution_count": 39,
   "metadata": {},
   "outputs": [],
   "source": [
    "y_pred_out = gb.predict(test_set.iloc[:, 1:])"
   ]
  },
  {
   "cell_type": "code",
   "execution_count": 47,
   "metadata": {},
   "outputs": [],
   "source": [
    "d = {\n",
    "    'ID': np.arange(0, test_set.shape[0]), \n",
    "    'item_cnt_month': y_pred_out\n",
    "}\n",
    "output = pd.DataFrame(data=d)\n",
    "output.to_csv('output/submission_baseline.csv', index=False)"
   ]
  },
  {
   "cell_type": "markdown",
   "metadata": {},
   "source": [
    "## Categorical info in shops, potentially\n",
    "A quick glance into the translations of some of the shop_names in shops indicated that I might be able to break out some categorical info. The first word might be a city or some other location. Also, some of the words which have higher frequencies seem to point to either a shopping center, a mall, a megastore, etc."
   ]
  },
  {
   "cell_type": "code",
   "execution_count": 55,
   "metadata": {},
   "outputs": [],
   "source": [
    "# clean up names, get locations, then vectorize the top occurences\n",
    "shops = sd.shops\n",
    "shops['clean_name'] = nlp.clean_names(shops['shop_name'])\n",
    "\n",
    "shops['loc_name'] = shops['clean_name'].apply(lambda x: x.split()[0])\n",
    "shops = nlp.get_top_words(shops, shops['clean_name'], 10)\n",
    "\n",
    "# remove top occurences if in loc_name\n",
    "for col in shops.columns:\n",
    "    if col.upper() in shops['loc_name'].unique():\n",
    "        shops.drop(col, axis=1, inplace=True)"
   ]
  },
  {
   "cell_type": "code",
   "execution_count": 61,
   "metadata": {},
   "outputs": [
    {
     "data": {
      "text/html": [
       "<div>\n",
       "<style scoped>\n",
       "    .dataframe tbody tr th:only-of-type {\n",
       "        vertical-align: middle;\n",
       "    }\n",
       "\n",
       "    .dataframe tbody tr th {\n",
       "        vertical-align: top;\n",
       "    }\n",
       "\n",
       "    .dataframe thead th {\n",
       "        text-align: right;\n",
       "    }\n",
       "</style>\n",
       "<table border=\"1\" class=\"dataframe\">\n",
       "  <thead>\n",
       "    <tr style=\"text-align: right;\">\n",
       "      <th></th>\n",
       "      <th>shop_name</th>\n",
       "      <th>shop_id</th>\n",
       "      <th>clean_name</th>\n",
       "      <th>loc_name</th>\n",
       "      <th>тц</th>\n",
       "      <th>трц</th>\n",
       "      <th>мега</th>\n",
       "      <th>тк</th>\n",
       "      <th>трк</th>\n",
       "      <th>молл</th>\n",
       "      <th>центральный</th>\n",
       "    </tr>\n",
       "  </thead>\n",
       "  <tbody>\n",
       "    <tr>\n",
       "      <th>0</th>\n",
       "      <td>!Якутск Орджоникидзе, 56 фран</td>\n",
       "      <td>0</td>\n",
       "      <td>ЯКУТСК ОРДЖОНИКИДЗЕ 56 ФРАН</td>\n",
       "      <td>ЯКУТСК</td>\n",
       "      <td>0</td>\n",
       "      <td>0</td>\n",
       "      <td>0</td>\n",
       "      <td>0</td>\n",
       "      <td>0</td>\n",
       "      <td>0</td>\n",
       "      <td>0</td>\n",
       "    </tr>\n",
       "    <tr>\n",
       "      <th>1</th>\n",
       "      <td>!Якутск ТЦ \"Центральный\" фран</td>\n",
       "      <td>1</td>\n",
       "      <td>ЯКУТСК ТЦ ЦЕНТРАЛЬНЫЙ ФРАН</td>\n",
       "      <td>ЯКУТСК</td>\n",
       "      <td>1</td>\n",
       "      <td>0</td>\n",
       "      <td>0</td>\n",
       "      <td>0</td>\n",
       "      <td>0</td>\n",
       "      <td>0</td>\n",
       "      <td>1</td>\n",
       "    </tr>\n",
       "    <tr>\n",
       "      <th>2</th>\n",
       "      <td>Адыгея ТЦ \"Мега\"</td>\n",
       "      <td>2</td>\n",
       "      <td>АДЫГЕЯ ТЦ МЕГА</td>\n",
       "      <td>АДЫГЕЯ</td>\n",
       "      <td>1</td>\n",
       "      <td>0</td>\n",
       "      <td>1</td>\n",
       "      <td>0</td>\n",
       "      <td>0</td>\n",
       "      <td>0</td>\n",
       "      <td>0</td>\n",
       "    </tr>\n",
       "    <tr>\n",
       "      <th>3</th>\n",
       "      <td>Балашиха ТРК \"Октябрь-Киномир\"</td>\n",
       "      <td>3</td>\n",
       "      <td>БАЛАШИХА ТРК ОКТЯБРЬ-КИНОМИР</td>\n",
       "      <td>БАЛАШИХА</td>\n",
       "      <td>0</td>\n",
       "      <td>0</td>\n",
       "      <td>0</td>\n",
       "      <td>0</td>\n",
       "      <td>1</td>\n",
       "      <td>0</td>\n",
       "      <td>0</td>\n",
       "    </tr>\n",
       "    <tr>\n",
       "      <th>4</th>\n",
       "      <td>Волжский ТЦ \"Волга Молл\"</td>\n",
       "      <td>4</td>\n",
       "      <td>ВОЛЖСКИЙ ТЦ ВОЛГА МОЛЛ</td>\n",
       "      <td>ВОЛЖСКИЙ</td>\n",
       "      <td>1</td>\n",
       "      <td>0</td>\n",
       "      <td>0</td>\n",
       "      <td>0</td>\n",
       "      <td>0</td>\n",
       "      <td>1</td>\n",
       "      <td>0</td>\n",
       "    </tr>\n",
       "  </tbody>\n",
       "</table>\n",
       "</div>"
      ],
      "text/plain": [
       "                        shop_name  shop_id                    clean_name  \\\n",
       "0   !Якутск Орджоникидзе, 56 фран        0   ЯКУТСК ОРДЖОНИКИДЗЕ 56 ФРАН   \n",
       "1   !Якутск ТЦ \"Центральный\" фран        1    ЯКУТСК ТЦ ЦЕНТРАЛЬНЫЙ ФРАН   \n",
       "2                Адыгея ТЦ \"Мега\"        2                АДЫГЕЯ ТЦ МЕГА   \n",
       "3  Балашиха ТРК \"Октябрь-Киномир\"        3  БАЛАШИХА ТРК ОКТЯБРЬ-КИНОМИР   \n",
       "4        Волжский ТЦ \"Волга Молл\"        4        ВОЛЖСКИЙ ТЦ ВОЛГА МОЛЛ   \n",
       "\n",
       "   loc_name  тц  трц  мега  тк  трк  молл  центральный  \n",
       "0    ЯКУТСК   0    0     0   0    0     0            0  \n",
       "1    ЯКУТСК   1    0     0   0    0     0            1  \n",
       "2    АДЫГЕЯ   1    0     1   0    0     0            0  \n",
       "3  БАЛАШИХА   0    0     0   0    1     0            0  \n",
       "4  ВОЛЖСКИЙ   1    0     0   0    0     1            0  "
      ]
     },
     "execution_count": 61,
     "metadata": {},
     "output_type": "execute_result"
    }
   ],
   "source": [
    "shops.head()"
   ]
  },
  {
   "cell_type": "code",
   "execution_count": 62,
   "metadata": {},
   "outputs": [
    {
     "data": {
      "text/html": [
       "<div>\n",
       "<style scoped>\n",
       "    .dataframe tbody tr th:only-of-type {\n",
       "        vertical-align: middle;\n",
       "    }\n",
       "\n",
       "    .dataframe tbody tr th {\n",
       "        vertical-align: top;\n",
       "    }\n",
       "\n",
       "    .dataframe thead th {\n",
       "        text-align: right;\n",
       "    }\n",
       "</style>\n",
       "<table border=\"1\" class=\"dataframe\">\n",
       "  <thead>\n",
       "    <tr style=\"text-align: right;\">\n",
       "      <th></th>\n",
       "      <th>date_block_num</th>\n",
       "      <th>year</th>\n",
       "      <th>month</th>\n",
       "      <th>year_month</th>\n",
       "      <th>shop_id</th>\n",
       "      <th>item_id</th>\n",
       "      <th>item_price</th>\n",
       "      <th>item_cnt_mth</th>\n",
       "    </tr>\n",
       "  </thead>\n",
       "  <tbody>\n",
       "    <tr>\n",
       "      <th>0</th>\n",
       "      <td>0</td>\n",
       "      <td>2013</td>\n",
       "      <td>01</td>\n",
       "      <td>201301</td>\n",
       "      <td>0</td>\n",
       "      <td>1000</td>\n",
       "      <td>58.0</td>\n",
       "      <td>5.0</td>\n",
       "    </tr>\n",
       "    <tr>\n",
       "      <th>1</th>\n",
       "      <td>0</td>\n",
       "      <td>2013</td>\n",
       "      <td>01</td>\n",
       "      <td>201301</td>\n",
       "      <td>0</td>\n",
       "      <td>1001</td>\n",
       "      <td>58.0</td>\n",
       "      <td>2.0</td>\n",
       "    </tr>\n",
       "    <tr>\n",
       "      <th>2</th>\n",
       "      <td>0</td>\n",
       "      <td>2013</td>\n",
       "      <td>01</td>\n",
       "      <td>201301</td>\n",
       "      <td>0</td>\n",
       "      <td>10012</td>\n",
       "      <td>76.0</td>\n",
       "      <td>1.0</td>\n",
       "    </tr>\n",
       "    <tr>\n",
       "      <th>3</th>\n",
       "      <td>0</td>\n",
       "      <td>2013</td>\n",
       "      <td>01</td>\n",
       "      <td>201301</td>\n",
       "      <td>0</td>\n",
       "      <td>1002</td>\n",
       "      <td>58.0</td>\n",
       "      <td>2.0</td>\n",
       "    </tr>\n",
       "    <tr>\n",
       "      <th>4</th>\n",
       "      <td>0</td>\n",
       "      <td>2013</td>\n",
       "      <td>01</td>\n",
       "      <td>201301</td>\n",
       "      <td>0</td>\n",
       "      <td>1003</td>\n",
       "      <td>58.0</td>\n",
       "      <td>2.0</td>\n",
       "    </tr>\n",
       "  </tbody>\n",
       "</table>\n",
       "</div>"
      ],
      "text/plain": [
       "   date_block_num  year month year_month shop_id item_id  item_price  \\\n",
       "0               0  2013    01     201301       0    1000        58.0   \n",
       "1               0  2013    01     201301       0    1001        58.0   \n",
       "2               0  2013    01     201301       0   10012        76.0   \n",
       "3               0  2013    01     201301       0    1002        58.0   \n",
       "4               0  2013    01     201301       0    1003        58.0   \n",
       "\n",
       "   item_cnt_mth  \n",
       "0           5.0  \n",
       "1           2.0  \n",
       "2           1.0  \n",
       "3           2.0  \n",
       "4           2.0  "
      ]
     },
     "execution_count": 62,
     "metadata": {},
     "output_type": "execute_result"
    }
   ],
   "source": [
    "sales.head()"
   ]
  },
  {
   "cell_type": "markdown",
   "metadata": {},
   "source": [
    "## Model with Additional Shop Info"
   ]
  },
  {
   "cell_type": "code",
   "execution_count": 63,
   "metadata": {},
   "outputs": [],
   "source": [
    "shops['shop_id'] = shops['shop_id'].astype(str)"
   ]
  },
  {
   "cell_type": "code",
   "execution_count": 64,
   "metadata": {},
   "outputs": [],
   "source": [
    "shop_sales = pd.merge(sales, shops, on='shop_id', how='inner')"
   ]
  },
  {
   "cell_type": "code",
   "execution_count": 65,
   "metadata": {},
   "outputs": [],
   "source": [
    "drop_cols = ['shop_name', 'clean_name']\n",
    "for col in drop_cols:\n",
    "    shop_sales.drop(col, axis=1, inplace=True)"
   ]
  },
  {
   "cell_type": "code",
   "execution_count": 66,
   "metadata": {},
   "outputs": [
    {
     "data": {
      "text/html": [
       "<div>\n",
       "<style scoped>\n",
       "    .dataframe tbody tr th:only-of-type {\n",
       "        vertical-align: middle;\n",
       "    }\n",
       "\n",
       "    .dataframe tbody tr th {\n",
       "        vertical-align: top;\n",
       "    }\n",
       "\n",
       "    .dataframe thead th {\n",
       "        text-align: right;\n",
       "    }\n",
       "</style>\n",
       "<table border=\"1\" class=\"dataframe\">\n",
       "  <thead>\n",
       "    <tr style=\"text-align: right;\">\n",
       "      <th></th>\n",
       "      <th>date_block_num</th>\n",
       "      <th>year</th>\n",
       "      <th>month</th>\n",
       "      <th>year_month</th>\n",
       "      <th>shop_id</th>\n",
       "      <th>item_id</th>\n",
       "      <th>item_price</th>\n",
       "      <th>item_cnt_mth</th>\n",
       "      <th>loc_name</th>\n",
       "      <th>тц</th>\n",
       "      <th>трц</th>\n",
       "      <th>мега</th>\n",
       "      <th>тк</th>\n",
       "      <th>трк</th>\n",
       "      <th>молл</th>\n",
       "      <th>центральный</th>\n",
       "    </tr>\n",
       "  </thead>\n",
       "  <tbody>\n",
       "    <tr>\n",
       "      <th>0</th>\n",
       "      <td>0</td>\n",
       "      <td>2013</td>\n",
       "      <td>01</td>\n",
       "      <td>201301</td>\n",
       "      <td>0</td>\n",
       "      <td>1000</td>\n",
       "      <td>58.0</td>\n",
       "      <td>5.0</td>\n",
       "      <td>ЯКУТСК</td>\n",
       "      <td>0</td>\n",
       "      <td>0</td>\n",
       "      <td>0</td>\n",
       "      <td>0</td>\n",
       "      <td>0</td>\n",
       "      <td>0</td>\n",
       "      <td>0</td>\n",
       "    </tr>\n",
       "    <tr>\n",
       "      <th>1</th>\n",
       "      <td>0</td>\n",
       "      <td>2013</td>\n",
       "      <td>01</td>\n",
       "      <td>201301</td>\n",
       "      <td>0</td>\n",
       "      <td>1001</td>\n",
       "      <td>58.0</td>\n",
       "      <td>2.0</td>\n",
       "      <td>ЯКУТСК</td>\n",
       "      <td>0</td>\n",
       "      <td>0</td>\n",
       "      <td>0</td>\n",
       "      <td>0</td>\n",
       "      <td>0</td>\n",
       "      <td>0</td>\n",
       "      <td>0</td>\n",
       "    </tr>\n",
       "    <tr>\n",
       "      <th>2</th>\n",
       "      <td>0</td>\n",
       "      <td>2013</td>\n",
       "      <td>01</td>\n",
       "      <td>201301</td>\n",
       "      <td>0</td>\n",
       "      <td>10012</td>\n",
       "      <td>76.0</td>\n",
       "      <td>1.0</td>\n",
       "      <td>ЯКУТСК</td>\n",
       "      <td>0</td>\n",
       "      <td>0</td>\n",
       "      <td>0</td>\n",
       "      <td>0</td>\n",
       "      <td>0</td>\n",
       "      <td>0</td>\n",
       "      <td>0</td>\n",
       "    </tr>\n",
       "    <tr>\n",
       "      <th>3</th>\n",
       "      <td>0</td>\n",
       "      <td>2013</td>\n",
       "      <td>01</td>\n",
       "      <td>201301</td>\n",
       "      <td>0</td>\n",
       "      <td>1002</td>\n",
       "      <td>58.0</td>\n",
       "      <td>2.0</td>\n",
       "      <td>ЯКУТСК</td>\n",
       "      <td>0</td>\n",
       "      <td>0</td>\n",
       "      <td>0</td>\n",
       "      <td>0</td>\n",
       "      <td>0</td>\n",
       "      <td>0</td>\n",
       "      <td>0</td>\n",
       "    </tr>\n",
       "    <tr>\n",
       "      <th>4</th>\n",
       "      <td>0</td>\n",
       "      <td>2013</td>\n",
       "      <td>01</td>\n",
       "      <td>201301</td>\n",
       "      <td>0</td>\n",
       "      <td>1003</td>\n",
       "      <td>58.0</td>\n",
       "      <td>2.0</td>\n",
       "      <td>ЯКУТСК</td>\n",
       "      <td>0</td>\n",
       "      <td>0</td>\n",
       "      <td>0</td>\n",
       "      <td>0</td>\n",
       "      <td>0</td>\n",
       "      <td>0</td>\n",
       "      <td>0</td>\n",
       "    </tr>\n",
       "  </tbody>\n",
       "</table>\n",
       "</div>"
      ],
      "text/plain": [
       "   date_block_num  year month year_month shop_id item_id  item_price  \\\n",
       "0               0  2013    01     201301       0    1000        58.0   \n",
       "1               0  2013    01     201301       0    1001        58.0   \n",
       "2               0  2013    01     201301       0   10012        76.0   \n",
       "3               0  2013    01     201301       0    1002        58.0   \n",
       "4               0  2013    01     201301       0    1003        58.0   \n",
       "\n",
       "   item_cnt_mth loc_name  тц  трц  мега  тк  трк  молл  центральный  \n",
       "0           5.0   ЯКУТСК   0    0     0   0    0     0            0  \n",
       "1           2.0   ЯКУТСК   0    0     0   0    0     0            0  \n",
       "2           1.0   ЯКУТСК   0    0     0   0    0     0            0  \n",
       "3           2.0   ЯКУТСК   0    0     0   0    0     0            0  \n",
       "4           2.0   ЯКУТСК   0    0     0   0    0     0            0  "
      ]
     },
     "execution_count": 66,
     "metadata": {},
     "output_type": "execute_result"
    }
   ],
   "source": [
    "shop_sales.head()"
   ]
  },
  {
   "cell_type": "code",
   "execution_count": 67,
   "metadata": {},
   "outputs": [],
   "source": [
    "gb_cols = ['year', 'month', 'year_month', 'shop_id', \n",
    "           'item_id', 'loc_name', \n",
    "           'тц', 'трц', 'мега', 'тк', 'трк', 'молл', 'центральный']\n",
    "\n",
    "model_input = shop_sales.groupby(gb_cols)[['item_cnt_mth']].sum().reset_index()"
   ]
  },
  {
   "cell_type": "code",
   "execution_count": 76,
   "metadata": {},
   "outputs": [
    {
     "data": {
      "text/html": [
       "<div>\n",
       "<style scoped>\n",
       "    .dataframe tbody tr th:only-of-type {\n",
       "        vertical-align: middle;\n",
       "    }\n",
       "\n",
       "    .dataframe tbody tr th {\n",
       "        vertical-align: top;\n",
       "    }\n",
       "\n",
       "    .dataframe thead th {\n",
       "        text-align: right;\n",
       "    }\n",
       "</style>\n",
       "<table border=\"1\" class=\"dataframe\">\n",
       "  <thead>\n",
       "    <tr style=\"text-align: right;\">\n",
       "      <th></th>\n",
       "      <th>year</th>\n",
       "      <th>month</th>\n",
       "      <th>year_month</th>\n",
       "      <th>shop_id</th>\n",
       "      <th>item_id</th>\n",
       "      <th>loc_name</th>\n",
       "      <th>тц</th>\n",
       "      <th>трц</th>\n",
       "      <th>мега</th>\n",
       "      <th>тк</th>\n",
       "      <th>трк</th>\n",
       "      <th>молл</th>\n",
       "      <th>центральный</th>\n",
       "      <th>item_cnt_mth</th>\n",
       "    </tr>\n",
       "  </thead>\n",
       "  <tbody>\n",
       "    <tr>\n",
       "      <th>0</th>\n",
       "      <td>2013</td>\n",
       "      <td>01</td>\n",
       "      <td>201301</td>\n",
       "      <td>0</td>\n",
       "      <td>1000</td>\n",
       "      <td>ЯКУТСК</td>\n",
       "      <td>0</td>\n",
       "      <td>0</td>\n",
       "      <td>0</td>\n",
       "      <td>0</td>\n",
       "      <td>0</td>\n",
       "      <td>0</td>\n",
       "      <td>0</td>\n",
       "      <td>5.0</td>\n",
       "    </tr>\n",
       "    <tr>\n",
       "      <th>1</th>\n",
       "      <td>2013</td>\n",
       "      <td>01</td>\n",
       "      <td>201301</td>\n",
       "      <td>0</td>\n",
       "      <td>1001</td>\n",
       "      <td>ЯКУТСК</td>\n",
       "      <td>0</td>\n",
       "      <td>0</td>\n",
       "      <td>0</td>\n",
       "      <td>0</td>\n",
       "      <td>0</td>\n",
       "      <td>0</td>\n",
       "      <td>0</td>\n",
       "      <td>2.0</td>\n",
       "    </tr>\n",
       "    <tr>\n",
       "      <th>2</th>\n",
       "      <td>2013</td>\n",
       "      <td>01</td>\n",
       "      <td>201301</td>\n",
       "      <td>0</td>\n",
       "      <td>10012</td>\n",
       "      <td>ЯКУТСК</td>\n",
       "      <td>0</td>\n",
       "      <td>0</td>\n",
       "      <td>0</td>\n",
       "      <td>0</td>\n",
       "      <td>0</td>\n",
       "      <td>0</td>\n",
       "      <td>0</td>\n",
       "      <td>1.0</td>\n",
       "    </tr>\n",
       "    <tr>\n",
       "      <th>3</th>\n",
       "      <td>2013</td>\n",
       "      <td>01</td>\n",
       "      <td>201301</td>\n",
       "      <td>0</td>\n",
       "      <td>1002</td>\n",
       "      <td>ЯКУТСК</td>\n",
       "      <td>0</td>\n",
       "      <td>0</td>\n",
       "      <td>0</td>\n",
       "      <td>0</td>\n",
       "      <td>0</td>\n",
       "      <td>0</td>\n",
       "      <td>0</td>\n",
       "      <td>2.0</td>\n",
       "    </tr>\n",
       "    <tr>\n",
       "      <th>4</th>\n",
       "      <td>2013</td>\n",
       "      <td>01</td>\n",
       "      <td>201301</td>\n",
       "      <td>0</td>\n",
       "      <td>1003</td>\n",
       "      <td>ЯКУТСК</td>\n",
       "      <td>0</td>\n",
       "      <td>0</td>\n",
       "      <td>0</td>\n",
       "      <td>0</td>\n",
       "      <td>0</td>\n",
       "      <td>0</td>\n",
       "      <td>0</td>\n",
       "      <td>2.0</td>\n",
       "    </tr>\n",
       "  </tbody>\n",
       "</table>\n",
       "</div>"
      ],
      "text/plain": [
       "   year month year_month shop_id item_id loc_name  тц  трц  мега  тк  трк  \\\n",
       "0  2013    01     201301       0    1000   ЯКУТСК   0    0     0   0    0   \n",
       "1  2013    01     201301       0    1001   ЯКУТСК   0    0     0   0    0   \n",
       "2  2013    01     201301       0   10012   ЯКУТСК   0    0     0   0    0   \n",
       "3  2013    01     201301       0    1002   ЯКУТСК   0    0     0   0    0   \n",
       "4  2013    01     201301       0    1003   ЯКУТСК   0    0     0   0    0   \n",
       "\n",
       "   молл  центральный  item_cnt_mth  \n",
       "0     0            0           5.0  \n",
       "1     0            0           2.0  \n",
       "2     0            0           1.0  \n",
       "3     0            0           2.0  \n",
       "4     0            0           2.0  "
      ]
     },
     "execution_count": 76,
     "metadata": {},
     "output_type": "execute_result"
    }
   ],
   "source": [
    "model_input.head()"
   ]
  },
  {
   "cell_type": "code",
   "execution_count": 77,
   "metadata": {},
   "outputs": [],
   "source": [
    "model_input = pd.get_dummies(data=model_input, prefix='loc', prefix_sep='_', \n",
    "                             columns=['loc_name'], drop_first=True)"
   ]
  },
  {
   "cell_type": "code",
   "execution_count": 78,
   "metadata": {},
   "outputs": [
    {
     "data": {
      "text/plain": [
       "Index(['year', 'month', 'year_month', 'shop_id', 'item_id', 'тц', 'трц',\n",
       "       'мега', 'тк', 'трк', 'молл', 'центральный', 'item_cnt_mth',\n",
       "       'loc_БАЛАШИХА', 'loc_ВОЛЖСКИЙ', 'loc_ВОЛОГДА', 'loc_ВОРОНЕЖ',\n",
       "       'loc_ВЫЕЗДНАЯ', 'loc_ЖУКОВСКИЙ', 'loc_ИНТЕРНЕТ-МАГАЗИН', 'loc_КАЗАНЬ',\n",
       "       'loc_КАЛУГА', 'loc_КОЛОМНА', 'loc_КРАСНОЯРСК', 'loc_КУРСК',\n",
       "       'loc_МОСКВА', 'loc_МЫТИЩИ', 'loc_ННОВГОРОД', 'loc_НОВОСИБИРСК',\n",
       "       'loc_ОМСК', 'loc_РОСТОВНАДОНУ', 'loc_САМАРА', 'loc_СЕРГИЕВ', 'loc_СПБ',\n",
       "       'loc_СУРГУТ', 'loc_ТОМСК', 'loc_ТЮМЕНЬ', 'loc_УФА', 'loc_ХИМКИ',\n",
       "       'loc_ЦИФРОВОЙ', 'loc_ЧЕХОВ', 'loc_ЯКУТСК', 'loc_ЯРОСЛАВЛЬ'],\n",
       "      dtype='object')"
      ]
     },
     "execution_count": 78,
     "metadata": {},
     "output_type": "execute_result"
    }
   ],
   "source": [
    "model_input.columns"
   ]
  },
  {
   "cell_type": "code",
   "execution_count": 79,
   "metadata": {},
   "outputs": [],
   "source": [
    "X = model_input.drop('item_cnt_mth', axis=1)\n",
    "y = model_input.loc[:, 'item_cnt_mth'].copy()\n",
    "X_train, X_test, y_train, y_test = ts_train_test_split(X, y, test_periods=1)"
   ]
  },
  {
   "cell_type": "code",
   "execution_count": 81,
   "metadata": {},
   "outputs": [
    {
     "name": "stderr",
     "output_type": "stream",
     "text": [
      "/Users/u1b1700/.pyenv/versions/3.7.2/envs/kag/lib/python3.7/site-packages/pandas/core/frame.py:3997: SettingWithCopyWarning: \n",
      "A value is trying to be set on a copy of a slice from a DataFrame\n",
      "\n",
      "See the caveats in the documentation: https://pandas.pydata.org/pandas-docs/stable/user_guide/indexing.html#returning-a-view-versus-a-copy\n",
      "  errors=errors,\n"
     ]
    }
   ],
   "source": [
    "for df in [X_train, X_test]:\n",
    "    df.drop(['year', 'year_month'], axis=1, inplace=True)"
   ]
  },
  {
   "cell_type": "code",
   "execution_count": 82,
   "metadata": {},
   "outputs": [
    {
     "data": {
      "text/html": [
       "<div>\n",
       "<style scoped>\n",
       "    .dataframe tbody tr th:only-of-type {\n",
       "        vertical-align: middle;\n",
       "    }\n",
       "\n",
       "    .dataframe tbody tr th {\n",
       "        vertical-align: top;\n",
       "    }\n",
       "\n",
       "    .dataframe thead th {\n",
       "        text-align: right;\n",
       "    }\n",
       "</style>\n",
       "<table border=\"1\" class=\"dataframe\">\n",
       "  <thead>\n",
       "    <tr style=\"text-align: right;\">\n",
       "      <th></th>\n",
       "      <th>month</th>\n",
       "      <th>shop_id</th>\n",
       "      <th>item_id</th>\n",
       "      <th>тц</th>\n",
       "      <th>трц</th>\n",
       "      <th>мега</th>\n",
       "      <th>тк</th>\n",
       "      <th>трк</th>\n",
       "      <th>молл</th>\n",
       "      <th>центральный</th>\n",
       "      <th>...</th>\n",
       "      <th>loc_СПБ</th>\n",
       "      <th>loc_СУРГУТ</th>\n",
       "      <th>loc_ТОМСК</th>\n",
       "      <th>loc_ТЮМЕНЬ</th>\n",
       "      <th>loc_УФА</th>\n",
       "      <th>loc_ХИМКИ</th>\n",
       "      <th>loc_ЦИФРОВОЙ</th>\n",
       "      <th>loc_ЧЕХОВ</th>\n",
       "      <th>loc_ЯКУТСК</th>\n",
       "      <th>loc_ЯРОСЛАВЛЬ</th>\n",
       "    </tr>\n",
       "  </thead>\n",
       "  <tbody>\n",
       "    <tr>\n",
       "      <th>0</th>\n",
       "      <td>01</td>\n",
       "      <td>0</td>\n",
       "      <td>1000</td>\n",
       "      <td>0</td>\n",
       "      <td>0</td>\n",
       "      <td>0</td>\n",
       "      <td>0</td>\n",
       "      <td>0</td>\n",
       "      <td>0</td>\n",
       "      <td>0</td>\n",
       "      <td>...</td>\n",
       "      <td>0</td>\n",
       "      <td>0</td>\n",
       "      <td>0</td>\n",
       "      <td>0</td>\n",
       "      <td>0</td>\n",
       "      <td>0</td>\n",
       "      <td>0</td>\n",
       "      <td>0</td>\n",
       "      <td>1</td>\n",
       "      <td>0</td>\n",
       "    </tr>\n",
       "    <tr>\n",
       "      <th>1</th>\n",
       "      <td>01</td>\n",
       "      <td>0</td>\n",
       "      <td>1001</td>\n",
       "      <td>0</td>\n",
       "      <td>0</td>\n",
       "      <td>0</td>\n",
       "      <td>0</td>\n",
       "      <td>0</td>\n",
       "      <td>0</td>\n",
       "      <td>0</td>\n",
       "      <td>...</td>\n",
       "      <td>0</td>\n",
       "      <td>0</td>\n",
       "      <td>0</td>\n",
       "      <td>0</td>\n",
       "      <td>0</td>\n",
       "      <td>0</td>\n",
       "      <td>0</td>\n",
       "      <td>0</td>\n",
       "      <td>1</td>\n",
       "      <td>0</td>\n",
       "    </tr>\n",
       "    <tr>\n",
       "      <th>2</th>\n",
       "      <td>01</td>\n",
       "      <td>0</td>\n",
       "      <td>10012</td>\n",
       "      <td>0</td>\n",
       "      <td>0</td>\n",
       "      <td>0</td>\n",
       "      <td>0</td>\n",
       "      <td>0</td>\n",
       "      <td>0</td>\n",
       "      <td>0</td>\n",
       "      <td>...</td>\n",
       "      <td>0</td>\n",
       "      <td>0</td>\n",
       "      <td>0</td>\n",
       "      <td>0</td>\n",
       "      <td>0</td>\n",
       "      <td>0</td>\n",
       "      <td>0</td>\n",
       "      <td>0</td>\n",
       "      <td>1</td>\n",
       "      <td>0</td>\n",
       "    </tr>\n",
       "    <tr>\n",
       "      <th>3</th>\n",
       "      <td>01</td>\n",
       "      <td>0</td>\n",
       "      <td>1002</td>\n",
       "      <td>0</td>\n",
       "      <td>0</td>\n",
       "      <td>0</td>\n",
       "      <td>0</td>\n",
       "      <td>0</td>\n",
       "      <td>0</td>\n",
       "      <td>0</td>\n",
       "      <td>...</td>\n",
       "      <td>0</td>\n",
       "      <td>0</td>\n",
       "      <td>0</td>\n",
       "      <td>0</td>\n",
       "      <td>0</td>\n",
       "      <td>0</td>\n",
       "      <td>0</td>\n",
       "      <td>0</td>\n",
       "      <td>1</td>\n",
       "      <td>0</td>\n",
       "    </tr>\n",
       "    <tr>\n",
       "      <th>4</th>\n",
       "      <td>01</td>\n",
       "      <td>0</td>\n",
       "      <td>1003</td>\n",
       "      <td>0</td>\n",
       "      <td>0</td>\n",
       "      <td>0</td>\n",
       "      <td>0</td>\n",
       "      <td>0</td>\n",
       "      <td>0</td>\n",
       "      <td>0</td>\n",
       "      <td>...</td>\n",
       "      <td>0</td>\n",
       "      <td>0</td>\n",
       "      <td>0</td>\n",
       "      <td>0</td>\n",
       "      <td>0</td>\n",
       "      <td>0</td>\n",
       "      <td>0</td>\n",
       "      <td>0</td>\n",
       "      <td>1</td>\n",
       "      <td>0</td>\n",
       "    </tr>\n",
       "  </tbody>\n",
       "</table>\n",
       "<p>5 rows × 40 columns</p>\n",
       "</div>"
      ],
      "text/plain": [
       "  month shop_id item_id  тц  трц  мега  тк  трк  молл  центральный  ...  \\\n",
       "0    01       0    1000   0    0     0   0    0     0            0  ...   \n",
       "1    01       0    1001   0    0     0   0    0     0            0  ...   \n",
       "2    01       0   10012   0    0     0   0    0     0            0  ...   \n",
       "3    01       0    1002   0    0     0   0    0     0            0  ...   \n",
       "4    01       0    1003   0    0     0   0    0     0            0  ...   \n",
       "\n",
       "   loc_СПБ  loc_СУРГУТ  loc_ТОМСК  loc_ТЮМЕНЬ  loc_УФА  loc_ХИМКИ  \\\n",
       "0        0           0          0           0        0          0   \n",
       "1        0           0          0           0        0          0   \n",
       "2        0           0          0           0        0          0   \n",
       "3        0           0          0           0        0          0   \n",
       "4        0           0          0           0        0          0   \n",
       "\n",
       "   loc_ЦИФРОВОЙ  loc_ЧЕХОВ  loc_ЯКУТСК  loc_ЯРОСЛАВЛЬ  \n",
       "0             0          0           1              0  \n",
       "1             0          0           1              0  \n",
       "2             0          0           1              0  \n",
       "3             0          0           1              0  \n",
       "4             0          0           1              0  \n",
       "\n",
       "[5 rows x 40 columns]"
      ]
     },
     "execution_count": 82,
     "metadata": {},
     "output_type": "execute_result"
    }
   ],
   "source": [
    "X_train.head()"
   ]
  },
  {
   "cell_type": "code",
   "execution_count": 84,
   "metadata": {},
   "outputs": [
    {
     "name": "stderr",
     "output_type": "stream",
     "text": [
      "[Parallel(n_jobs=2)]: Using backend ThreadingBackend with 2 concurrent workers.\n",
      "[Parallel(n_jobs=2)]: Done  46 tasks      | elapsed:   20.2s\n",
      "[Parallel(n_jobs=2)]: Done 196 tasks      | elapsed:  1.4min\n",
      "[Parallel(n_jobs=2)]: Done 446 tasks      | elapsed:  3.2min\n",
      "[Parallel(n_jobs=2)]: Done 500 out of 500 | elapsed:  3.6min finished\n",
      "[Parallel(n_jobs=2)]: Using backend ThreadingBackend with 2 concurrent workers.\n",
      "[Parallel(n_jobs=2)]: Done  46 tasks      | elapsed:    0.0s\n",
      "[Parallel(n_jobs=2)]: Done 196 tasks      | elapsed:    0.0s\n"
     ]
    },
    {
     "name": "stdout",
     "output_type": "stream",
     "text": [
      "Random Forest Regressor RMSE: 14.165455365525284\n"
     ]
    },
    {
     "name": "stderr",
     "output_type": "stream",
     "text": [
      "[Parallel(n_jobs=2)]: Done 446 tasks      | elapsed:    0.1s\n",
      "[Parallel(n_jobs=2)]: Done 500 out of 500 | elapsed:    0.1s finished\n"
     ]
    }
   ],
   "source": [
    "rf = RandomForestRegressor(n_estimators=500, \n",
    "                           criterion='mse', \n",
    "                           max_depth=2, \n",
    "                           min_samples_split=2, \n",
    "                           min_samples_leaf=1, \n",
    "                           min_weight_fraction_leaf=0.0, \n",
    "                           max_features='auto', \n",
    "                           max_leaf_nodes=None, \n",
    "                           min_impurity_decrease=0.0, \n",
    "                           min_impurity_split=None, \n",
    "                           bootstrap=True, \n",
    "                           oob_score=False, \n",
    "                           n_jobs=2, \n",
    "                           random_state=123, \n",
    "                           verbose=1, \n",
    "                           warm_start=False, \n",
    "                           ccp_alpha=0.0, \n",
    "                           max_samples=None)\n",
    "\n",
    "rf.fit(X_train, y_train.values.ravel())\n",
    "\n",
    "y_pred = rf.predict(X_test)\n",
    "\n",
    "score = np.sqrt(mean_squared_error(y_test, y_pred))\n",
    "print(f'Random Forest Regressor RMSE: {score}')"
   ]
  },
  {
   "cell_type": "code",
   "execution_count": 85,
   "metadata": {},
   "outputs": [
    {
     "name": "stdout",
     "output_type": "stream",
     "text": [
      "      Iter       Train Loss   Remaining Time \n",
      "         1          64.6079           11.47m\n",
      "         2          62.1983           11.19m\n",
      "         3          60.5140           10.63m\n",
      "         4          58.8839           10.89m\n",
      "         5          57.5613           11.11m\n",
      "         6          56.4899           11.30m\n",
      "         7          55.6204           10.76m\n",
      "         8          54.9146           10.73m\n",
      "         9          54.8826           10.82m\n",
      "        10          54.8567           10.88m\n",
      "        20          53.3467           10.39m\n",
      "        30          52.9010           10.11m\n",
      "        40          52.7882            9.23m\n",
      "        50          52.2984            8.36m\n",
      "        60          52.2607            7.98m\n",
      "        70          52.0755            7.48m\n",
      "        80          51.9222            6.94m\n",
      "        90          51.7929            6.35m\n",
      "       100          51.6015            5.80m\n",
      "       200          51.0850            0.00s\n",
      "Gradient Boosting Regressor RMSE: 14.07817497991133\n"
     ]
    }
   ],
   "source": [
    "gb = GradientBoostingRegressor(loss='ls', \n",
    "                               learning_rate=0.1, \n",
    "                               n_estimators=200, \n",
    "                               subsample=1.0, \n",
    "                               criterion='mse', \n",
    "                               min_samples_split=2, \n",
    "                               min_samples_leaf=1, \n",
    "                               min_weight_fraction_leaf=0.0, \n",
    "                               max_depth=2, \n",
    "                               min_impurity_decrease=0.0, \n",
    "                               min_impurity_split=None, \n",
    "                               init=None, \n",
    "                               random_state=None, \n",
    "                               max_features=None, \n",
    "                               alpha=0.9, \n",
    "                               verbose=1, \n",
    "                               max_leaf_nodes=None, \n",
    "                               warm_start=False, \n",
    "                               presort='deprecated', \n",
    "                               validation_fraction=0.1, \n",
    "                               n_iter_no_change=100, \n",
    "                               tol=0.0001, \n",
    "                               ccp_alpha=0.0)\n",
    "\n",
    "gb.fit(X_train, y_train.values.ravel())\n",
    "y_pred = gb.predict(X_test)\n",
    "\n",
    "score = np.sqrt(mean_squared_error(y_test, y_pred))\n",
    "print(f'Gradient Boosting Regressor RMSE: {score}')"
   ]
  },
  {
   "cell_type": "markdown",
   "metadata": {},
   "source": [
    "## Generate Output\n",
    "Import the test set and get results to upload."
   ]
  },
  {
   "cell_type": "code",
   "execution_count": 104,
   "metadata": {},
   "outputs": [
    {
     "name": "stdout",
     "output_type": "stream",
     "text": [
      "(214200, 4)\n"
     ]
    }
   ],
   "source": [
    "test_set = pd.read_csv('data/test.csv')\n",
    "test_set.insert(loc=1, column='month', value='11')\n",
    "test_set['shop_id'] = test_set['shop_id'].astype(str)\n",
    "print(test_set.shape)"
   ]
  },
  {
   "cell_type": "code",
   "execution_count": 105,
   "metadata": {},
   "outputs": [],
   "source": [
    "test_set = pd.merge(test_set, shops, on='shop_id', how='inner')\n",
    "\n",
    "test_set = pd.get_dummies(data=test_set, prefix='loc', prefix_sep='_', \n",
    "                             columns=['loc_name'], drop_first=True)"
   ]
  },
  {
   "cell_type": "code",
   "execution_count": 109,
   "metadata": {},
   "outputs": [
    {
     "name": "stdout",
     "output_type": "stream",
     "text": [
      "Adding columns loc_ВЫЕЗДНАЯ\n",
      "Adding columns loc_МЫТИЩИ\n",
      "Adding columns loc_ХИМКИ\n"
     ]
    }
   ],
   "source": [
    "# add missing columns\n",
    "for col in X_train.columns:\n",
    "    if col not in test_set.columns:\n",
    "        print(f'Adding columns {col}')\n",
    "        test_set[col] = 0"
   ]
  },
  {
   "cell_type": "code",
   "execution_count": 111,
   "metadata": {},
   "outputs": [],
   "source": [
    "test_set = test_set.loc[:, X_train.columns]\n",
    "y_pred_out = gb.predict(test_set)\n",
    "\n",
    "y_pred_out.shape"
   ]
  },
  {
   "cell_type": "code",
   "execution_count": 115,
   "metadata": {},
   "outputs": [],
   "source": [
    "d = {\n",
    "    'ID': np.arange(0, test_set.shape[0]), \n",
    "    'item_cnt_month': y_pred_out\n",
    "}\n",
    "output = pd.DataFrame(data=d)\n",
    "output.to_csv('output/submission_gb_shop_categories.csv', index=False)"
   ]
  },
  {
   "cell_type": "markdown",
   "metadata": {},
   "source": [
    "# Initial Insights\n",
    "Decision Tree models not really doing the job we need it to here. The RMSE scores are terrible. Time Series modeling is likely the better approach. Let's see what diffferent aggregations look like. Then, maybe we can pick a particular shop-item combination to use as a template for our TS model..."
   ]
  }
 ],
 "metadata": {
  "kernelspec": {
   "display_name": "Python 3",
   "language": "python",
   "name": "python3"
  },
  "language_info": {
   "codemirror_mode": {
    "name": "ipython",
    "version": 3
   },
   "file_extension": ".py",
   "mimetype": "text/x-python",
   "name": "python",
   "nbconvert_exporter": "python",
   "pygments_lexer": "ipython3",
   "version": "3.7.2"
  }
 },
 "nbformat": 4,
 "nbformat_minor": 4
}
